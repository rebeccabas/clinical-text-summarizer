{
  "nbformat": 4,
  "nbformat_minor": 0,
  "metadata": {
    "colab": {
      "provenance": [],
      "gpuType": "T4"
    },
    "kernelspec": {
      "name": "python3",
      "display_name": "Python 3"
    },
    "language_info": {
      "name": "python"
    },
    "accelerator": "GPU",
    "widgets": {
      "application/vnd.jupyter.widget-state+json": {
        "fc22bc12ccb74678a964dbdfda229e94": {
          "model_module": "@jupyter-widgets/controls",
          "model_name": "HBoxModel",
          "model_module_version": "1.5.0",
          "state": {
            "_dom_classes": [],
            "_model_module": "@jupyter-widgets/controls",
            "_model_module_version": "1.5.0",
            "_model_name": "HBoxModel",
            "_view_count": null,
            "_view_module": "@jupyter-widgets/controls",
            "_view_module_version": "1.5.0",
            "_view_name": "HBoxView",
            "box_style": "",
            "children": [
              "IPY_MODEL_26e341f4db50422f82c44a5bd581be99",
              "IPY_MODEL_733543e1f398410cb8d4a8cd3275e211",
              "IPY_MODEL_9b0cf69ad3e94ef199878399ba16c9f5"
            ],
            "layout": "IPY_MODEL_5ef3413606c94982a74537411b4a1f28"
          }
        },
        "26e341f4db50422f82c44a5bd581be99": {
          "model_module": "@jupyter-widgets/controls",
          "model_name": "HTMLModel",
          "model_module_version": "1.5.0",
          "state": {
            "_dom_classes": [],
            "_model_module": "@jupyter-widgets/controls",
            "_model_module_version": "1.5.0",
            "_model_name": "HTMLModel",
            "_view_count": null,
            "_view_module": "@jupyter-widgets/controls",
            "_view_module_version": "1.5.0",
            "_view_name": "HTMLView",
            "description": "",
            "description_tooltip": null,
            "layout": "IPY_MODEL_71d15b6ef66e4898aee2538809a15298",
            "placeholder": "​",
            "style": "IPY_MODEL_5aa3c9d646a14d6c93bac40847d0b627",
            "value": "Generating data split: "
          }
        },
        "733543e1f398410cb8d4a8cd3275e211": {
          "model_module": "@jupyter-widgets/controls",
          "model_name": "FloatProgressModel",
          "model_module_version": "1.5.0",
          "state": {
            "_dom_classes": [],
            "_model_module": "@jupyter-widgets/controls",
            "_model_module_version": "1.5.0",
            "_model_name": "FloatProgressModel",
            "_view_count": null,
            "_view_module": "@jupyter-widgets/controls",
            "_view_module_version": "1.5.0",
            "_view_name": "ProgressView",
            "bar_style": "success",
            "description": "",
            "description_tooltip": null,
            "layout": "IPY_MODEL_37ae5b555f60464681ac384b0cd8aacf",
            "max": 1,
            "min": 0,
            "orientation": "horizontal",
            "style": "IPY_MODEL_28ff7c23e52444658bbfd701fdff1c46",
            "value": 1
          }
        },
        "9b0cf69ad3e94ef199878399ba16c9f5": {
          "model_module": "@jupyter-widgets/controls",
          "model_name": "HTMLModel",
          "model_module_version": "1.5.0",
          "state": {
            "_dom_classes": [],
            "_model_module": "@jupyter-widgets/controls",
            "_model_module_version": "1.5.0",
            "_model_name": "HTMLModel",
            "_view_count": null,
            "_view_module": "@jupyter-widgets/controls",
            "_view_module_version": "1.5.0",
            "_view_name": "HTMLView",
            "description": "",
            "description_tooltip": null,
            "layout": "IPY_MODEL_6a34ec75aa0f405f9c19e5943553ba83",
            "placeholder": "​",
            "style": "IPY_MODEL_6a21ad77fd8c4be69848f979dbb3b1c3",
            "value": " 1074/0 [00:00&lt;00:00, 1529.79 examples/s]"
          }
        },
        "5ef3413606c94982a74537411b4a1f28": {
          "model_module": "@jupyter-widgets/base",
          "model_name": "LayoutModel",
          "model_module_version": "1.2.0",
          "state": {
            "_model_module": "@jupyter-widgets/base",
            "_model_module_version": "1.2.0",
            "_model_name": "LayoutModel",
            "_view_count": null,
            "_view_module": "@jupyter-widgets/base",
            "_view_module_version": "1.2.0",
            "_view_name": "LayoutView",
            "align_content": null,
            "align_items": null,
            "align_self": null,
            "border": null,
            "bottom": null,
            "display": null,
            "flex": null,
            "flex_flow": null,
            "grid_area": null,
            "grid_auto_columns": null,
            "grid_auto_flow": null,
            "grid_auto_rows": null,
            "grid_column": null,
            "grid_gap": null,
            "grid_row": null,
            "grid_template_areas": null,
            "grid_template_columns": null,
            "grid_template_rows": null,
            "height": null,
            "justify_content": null,
            "justify_items": null,
            "left": null,
            "margin": null,
            "max_height": null,
            "max_width": null,
            "min_height": null,
            "min_width": null,
            "object_fit": null,
            "object_position": null,
            "order": null,
            "overflow": null,
            "overflow_x": null,
            "overflow_y": null,
            "padding": null,
            "right": null,
            "top": null,
            "visibility": null,
            "width": null
          }
        },
        "71d15b6ef66e4898aee2538809a15298": {
          "model_module": "@jupyter-widgets/base",
          "model_name": "LayoutModel",
          "model_module_version": "1.2.0",
          "state": {
            "_model_module": "@jupyter-widgets/base",
            "_model_module_version": "1.2.0",
            "_model_name": "LayoutModel",
            "_view_count": null,
            "_view_module": "@jupyter-widgets/base",
            "_view_module_version": "1.2.0",
            "_view_name": "LayoutView",
            "align_content": null,
            "align_items": null,
            "align_self": null,
            "border": null,
            "bottom": null,
            "display": null,
            "flex": null,
            "flex_flow": null,
            "grid_area": null,
            "grid_auto_columns": null,
            "grid_auto_flow": null,
            "grid_auto_rows": null,
            "grid_column": null,
            "grid_gap": null,
            "grid_row": null,
            "grid_template_areas": null,
            "grid_template_columns": null,
            "grid_template_rows": null,
            "height": null,
            "justify_content": null,
            "justify_items": null,
            "left": null,
            "margin": null,
            "max_height": null,
            "max_width": null,
            "min_height": null,
            "min_width": null,
            "object_fit": null,
            "object_position": null,
            "order": null,
            "overflow": null,
            "overflow_x": null,
            "overflow_y": null,
            "padding": null,
            "right": null,
            "top": null,
            "visibility": null,
            "width": null
          }
        },
        "5aa3c9d646a14d6c93bac40847d0b627": {
          "model_module": "@jupyter-widgets/controls",
          "model_name": "DescriptionStyleModel",
          "model_module_version": "1.5.0",
          "state": {
            "_model_module": "@jupyter-widgets/controls",
            "_model_module_version": "1.5.0",
            "_model_name": "DescriptionStyleModel",
            "_view_count": null,
            "_view_module": "@jupyter-widgets/base",
            "_view_module_version": "1.2.0",
            "_view_name": "StyleView",
            "description_width": ""
          }
        },
        "37ae5b555f60464681ac384b0cd8aacf": {
          "model_module": "@jupyter-widgets/base",
          "model_name": "LayoutModel",
          "model_module_version": "1.2.0",
          "state": {
            "_model_module": "@jupyter-widgets/base",
            "_model_module_version": "1.2.0",
            "_model_name": "LayoutModel",
            "_view_count": null,
            "_view_module": "@jupyter-widgets/base",
            "_view_module_version": "1.2.0",
            "_view_name": "LayoutView",
            "align_content": null,
            "align_items": null,
            "align_self": null,
            "border": null,
            "bottom": null,
            "display": null,
            "flex": null,
            "flex_flow": null,
            "grid_area": null,
            "grid_auto_columns": null,
            "grid_auto_flow": null,
            "grid_auto_rows": null,
            "grid_column": null,
            "grid_gap": null,
            "grid_row": null,
            "grid_template_areas": null,
            "grid_template_columns": null,
            "grid_template_rows": null,
            "height": null,
            "justify_content": null,
            "justify_items": null,
            "left": null,
            "margin": null,
            "max_height": null,
            "max_width": null,
            "min_height": null,
            "min_width": null,
            "object_fit": null,
            "object_position": null,
            "order": null,
            "overflow": null,
            "overflow_x": null,
            "overflow_y": null,
            "padding": null,
            "right": null,
            "top": null,
            "visibility": null,
            "width": "20px"
          }
        },
        "28ff7c23e52444658bbfd701fdff1c46": {
          "model_module": "@jupyter-widgets/controls",
          "model_name": "ProgressStyleModel",
          "model_module_version": "1.5.0",
          "state": {
            "_model_module": "@jupyter-widgets/controls",
            "_model_module_version": "1.5.0",
            "_model_name": "ProgressStyleModel",
            "_view_count": null,
            "_view_module": "@jupyter-widgets/base",
            "_view_module_version": "1.2.0",
            "_view_name": "StyleView",
            "bar_color": null,
            "description_width": ""
          }
        },
        "6a34ec75aa0f405f9c19e5943553ba83": {
          "model_module": "@jupyter-widgets/base",
          "model_name": "LayoutModel",
          "model_module_version": "1.2.0",
          "state": {
            "_model_module": "@jupyter-widgets/base",
            "_model_module_version": "1.2.0",
            "_model_name": "LayoutModel",
            "_view_count": null,
            "_view_module": "@jupyter-widgets/base",
            "_view_module_version": "1.2.0",
            "_view_name": "LayoutView",
            "align_content": null,
            "align_items": null,
            "align_self": null,
            "border": null,
            "bottom": null,
            "display": null,
            "flex": null,
            "flex_flow": null,
            "grid_area": null,
            "grid_auto_columns": null,
            "grid_auto_flow": null,
            "grid_auto_rows": null,
            "grid_column": null,
            "grid_gap": null,
            "grid_row": null,
            "grid_template_areas": null,
            "grid_template_columns": null,
            "grid_template_rows": null,
            "height": null,
            "justify_content": null,
            "justify_items": null,
            "left": null,
            "margin": null,
            "max_height": null,
            "max_width": null,
            "min_height": null,
            "min_width": null,
            "object_fit": null,
            "object_position": null,
            "order": null,
            "overflow": null,
            "overflow_x": null,
            "overflow_y": null,
            "padding": null,
            "right": null,
            "top": null,
            "visibility": null,
            "width": null
          }
        },
        "6a21ad77fd8c4be69848f979dbb3b1c3": {
          "model_module": "@jupyter-widgets/controls",
          "model_name": "DescriptionStyleModel",
          "model_module_version": "1.5.0",
          "state": {
            "_model_module": "@jupyter-widgets/controls",
            "_model_module_version": "1.5.0",
            "_model_name": "DescriptionStyleModel",
            "_view_count": null,
            "_view_module": "@jupyter-widgets/base",
            "_view_module_version": "1.2.0",
            "_view_name": "StyleView",
            "description_width": ""
          }
        },
        "670103910b85464c849687d8ba5c23a6": {
          "model_module": "@jupyter-widgets/controls",
          "model_name": "HBoxModel",
          "model_module_version": "1.5.0",
          "state": {
            "_dom_classes": [],
            "_model_module": "@jupyter-widgets/controls",
            "_model_module_version": "1.5.0",
            "_model_name": "HBoxModel",
            "_view_count": null,
            "_view_module": "@jupyter-widgets/controls",
            "_view_module_version": "1.5.0",
            "_view_name": "HBoxView",
            "box_style": "",
            "children": [
              "IPY_MODEL_fba5079c3bec4cdcba65d76f0ab0035f",
              "IPY_MODEL_36312c369f874762a1cb5d4e0b0ebea3",
              "IPY_MODEL_524d5d6106324a96ba587a301de178fd"
            ],
            "layout": "IPY_MODEL_1bf21b07558f4f70bf50061791d23981"
          }
        },
        "fba5079c3bec4cdcba65d76f0ab0035f": {
          "model_module": "@jupyter-widgets/controls",
          "model_name": "HTMLModel",
          "model_module_version": "1.5.0",
          "state": {
            "_dom_classes": [],
            "_model_module": "@jupyter-widgets/controls",
            "_model_module_version": "1.5.0",
            "_model_name": "HTMLModel",
            "_view_count": null,
            "_view_module": "@jupyter-widgets/controls",
            "_view_module_version": "1.5.0",
            "_view_name": "HTMLView",
            "description": "",
            "description_tooltip": null,
            "layout": "IPY_MODEL_0cbd5cd27232415899e76a5dc2c66f35",
            "placeholder": "​",
            "style": "IPY_MODEL_a3e19d37ed2846d8a84ab792986a6498",
            "value": "tokenizer_config.json: 100%"
          }
        },
        "36312c369f874762a1cb5d4e0b0ebea3": {
          "model_module": "@jupyter-widgets/controls",
          "model_name": "FloatProgressModel",
          "model_module_version": "1.5.0",
          "state": {
            "_dom_classes": [],
            "_model_module": "@jupyter-widgets/controls",
            "_model_module_version": "1.5.0",
            "_model_name": "FloatProgressModel",
            "_view_count": null,
            "_view_module": "@jupyter-widgets/controls",
            "_view_module_version": "1.5.0",
            "_view_name": "ProgressView",
            "bar_style": "success",
            "description": "",
            "description_tooltip": null,
            "layout": "IPY_MODEL_1d2f42b5bde74169826f7ddcdba2b6a7",
            "max": 2324,
            "min": 0,
            "orientation": "horizontal",
            "style": "IPY_MODEL_8e78c295c90f4eca91eeb4e5afc72408",
            "value": 2324
          }
        },
        "524d5d6106324a96ba587a301de178fd": {
          "model_module": "@jupyter-widgets/controls",
          "model_name": "HTMLModel",
          "model_module_version": "1.5.0",
          "state": {
            "_dom_classes": [],
            "_model_module": "@jupyter-widgets/controls",
            "_model_module_version": "1.5.0",
            "_model_name": "HTMLModel",
            "_view_count": null,
            "_view_module": "@jupyter-widgets/controls",
            "_view_module_version": "1.5.0",
            "_view_name": "HTMLView",
            "description": "",
            "description_tooltip": null,
            "layout": "IPY_MODEL_cc440ea082ea4214a56d3584ee614c4f",
            "placeholder": "​",
            "style": "IPY_MODEL_53943362a194472381659c474cad2484",
            "value": " 2.32k/2.32k [00:00&lt;00:00, 117kB/s]"
          }
        },
        "1bf21b07558f4f70bf50061791d23981": {
          "model_module": "@jupyter-widgets/base",
          "model_name": "LayoutModel",
          "model_module_version": "1.2.0",
          "state": {
            "_model_module": "@jupyter-widgets/base",
            "_model_module_version": "1.2.0",
            "_model_name": "LayoutModel",
            "_view_count": null,
            "_view_module": "@jupyter-widgets/base",
            "_view_module_version": "1.2.0",
            "_view_name": "LayoutView",
            "align_content": null,
            "align_items": null,
            "align_self": null,
            "border": null,
            "bottom": null,
            "display": null,
            "flex": null,
            "flex_flow": null,
            "grid_area": null,
            "grid_auto_columns": null,
            "grid_auto_flow": null,
            "grid_auto_rows": null,
            "grid_column": null,
            "grid_gap": null,
            "grid_row": null,
            "grid_template_areas": null,
            "grid_template_columns": null,
            "grid_template_rows": null,
            "height": null,
            "justify_content": null,
            "justify_items": null,
            "left": null,
            "margin": null,
            "max_height": null,
            "max_width": null,
            "min_height": null,
            "min_width": null,
            "object_fit": null,
            "object_position": null,
            "order": null,
            "overflow": null,
            "overflow_x": null,
            "overflow_y": null,
            "padding": null,
            "right": null,
            "top": null,
            "visibility": null,
            "width": null
          }
        },
        "0cbd5cd27232415899e76a5dc2c66f35": {
          "model_module": "@jupyter-widgets/base",
          "model_name": "LayoutModel",
          "model_module_version": "1.2.0",
          "state": {
            "_model_module": "@jupyter-widgets/base",
            "_model_module_version": "1.2.0",
            "_model_name": "LayoutModel",
            "_view_count": null,
            "_view_module": "@jupyter-widgets/base",
            "_view_module_version": "1.2.0",
            "_view_name": "LayoutView",
            "align_content": null,
            "align_items": null,
            "align_self": null,
            "border": null,
            "bottom": null,
            "display": null,
            "flex": null,
            "flex_flow": null,
            "grid_area": null,
            "grid_auto_columns": null,
            "grid_auto_flow": null,
            "grid_auto_rows": null,
            "grid_column": null,
            "grid_gap": null,
            "grid_row": null,
            "grid_template_areas": null,
            "grid_template_columns": null,
            "grid_template_rows": null,
            "height": null,
            "justify_content": null,
            "justify_items": null,
            "left": null,
            "margin": null,
            "max_height": null,
            "max_width": null,
            "min_height": null,
            "min_width": null,
            "object_fit": null,
            "object_position": null,
            "order": null,
            "overflow": null,
            "overflow_x": null,
            "overflow_y": null,
            "padding": null,
            "right": null,
            "top": null,
            "visibility": null,
            "width": null
          }
        },
        "a3e19d37ed2846d8a84ab792986a6498": {
          "model_module": "@jupyter-widgets/controls",
          "model_name": "DescriptionStyleModel",
          "model_module_version": "1.5.0",
          "state": {
            "_model_module": "@jupyter-widgets/controls",
            "_model_module_version": "1.5.0",
            "_model_name": "DescriptionStyleModel",
            "_view_count": null,
            "_view_module": "@jupyter-widgets/base",
            "_view_module_version": "1.2.0",
            "_view_name": "StyleView",
            "description_width": ""
          }
        },
        "1d2f42b5bde74169826f7ddcdba2b6a7": {
          "model_module": "@jupyter-widgets/base",
          "model_name": "LayoutModel",
          "model_module_version": "1.2.0",
          "state": {
            "_model_module": "@jupyter-widgets/base",
            "_model_module_version": "1.2.0",
            "_model_name": "LayoutModel",
            "_view_count": null,
            "_view_module": "@jupyter-widgets/base",
            "_view_module_version": "1.2.0",
            "_view_name": "LayoutView",
            "align_content": null,
            "align_items": null,
            "align_self": null,
            "border": null,
            "bottom": null,
            "display": null,
            "flex": null,
            "flex_flow": null,
            "grid_area": null,
            "grid_auto_columns": null,
            "grid_auto_flow": null,
            "grid_auto_rows": null,
            "grid_column": null,
            "grid_gap": null,
            "grid_row": null,
            "grid_template_areas": null,
            "grid_template_columns": null,
            "grid_template_rows": null,
            "height": null,
            "justify_content": null,
            "justify_items": null,
            "left": null,
            "margin": null,
            "max_height": null,
            "max_width": null,
            "min_height": null,
            "min_width": null,
            "object_fit": null,
            "object_position": null,
            "order": null,
            "overflow": null,
            "overflow_x": null,
            "overflow_y": null,
            "padding": null,
            "right": null,
            "top": null,
            "visibility": null,
            "width": null
          }
        },
        "8e78c295c90f4eca91eeb4e5afc72408": {
          "model_module": "@jupyter-widgets/controls",
          "model_name": "ProgressStyleModel",
          "model_module_version": "1.5.0",
          "state": {
            "_model_module": "@jupyter-widgets/controls",
            "_model_module_version": "1.5.0",
            "_model_name": "ProgressStyleModel",
            "_view_count": null,
            "_view_module": "@jupyter-widgets/base",
            "_view_module_version": "1.2.0",
            "_view_name": "StyleView",
            "bar_color": null,
            "description_width": ""
          }
        },
        "cc440ea082ea4214a56d3584ee614c4f": {
          "model_module": "@jupyter-widgets/base",
          "model_name": "LayoutModel",
          "model_module_version": "1.2.0",
          "state": {
            "_model_module": "@jupyter-widgets/base",
            "_model_module_version": "1.2.0",
            "_model_name": "LayoutModel",
            "_view_count": null,
            "_view_module": "@jupyter-widgets/base",
            "_view_module_version": "1.2.0",
            "_view_name": "LayoutView",
            "align_content": null,
            "align_items": null,
            "align_self": null,
            "border": null,
            "bottom": null,
            "display": null,
            "flex": null,
            "flex_flow": null,
            "grid_area": null,
            "grid_auto_columns": null,
            "grid_auto_flow": null,
            "grid_auto_rows": null,
            "grid_column": null,
            "grid_gap": null,
            "grid_row": null,
            "grid_template_areas": null,
            "grid_template_columns": null,
            "grid_template_rows": null,
            "height": null,
            "justify_content": null,
            "justify_items": null,
            "left": null,
            "margin": null,
            "max_height": null,
            "max_width": null,
            "min_height": null,
            "min_width": null,
            "object_fit": null,
            "object_position": null,
            "order": null,
            "overflow": null,
            "overflow_x": null,
            "overflow_y": null,
            "padding": null,
            "right": null,
            "top": null,
            "visibility": null,
            "width": null
          }
        },
        "53943362a194472381659c474cad2484": {
          "model_module": "@jupyter-widgets/controls",
          "model_name": "DescriptionStyleModel",
          "model_module_version": "1.5.0",
          "state": {
            "_model_module": "@jupyter-widgets/controls",
            "_model_module_version": "1.5.0",
            "_model_name": "DescriptionStyleModel",
            "_view_count": null,
            "_view_module": "@jupyter-widgets/base",
            "_view_module_version": "1.2.0",
            "_view_name": "StyleView",
            "description_width": ""
          }
        },
        "01db537e979e47d68787d1d52b736c44": {
          "model_module": "@jupyter-widgets/controls",
          "model_name": "HBoxModel",
          "model_module_version": "1.5.0",
          "state": {
            "_dom_classes": [],
            "_model_module": "@jupyter-widgets/controls",
            "_model_module_version": "1.5.0",
            "_model_name": "HBoxModel",
            "_view_count": null,
            "_view_module": "@jupyter-widgets/controls",
            "_view_module_version": "1.5.0",
            "_view_name": "HBoxView",
            "box_style": "",
            "children": [
              "IPY_MODEL_e86ff231628c461d92a1e6e9175314ac",
              "IPY_MODEL_a49ddae3a0d242808f7ce95ed99bc805",
              "IPY_MODEL_3c006c8af1694783865067a543f946c6"
            ],
            "layout": "IPY_MODEL_e060c6e1bfb24308aa294bd4903c9f19"
          }
        },
        "e86ff231628c461d92a1e6e9175314ac": {
          "model_module": "@jupyter-widgets/controls",
          "model_name": "HTMLModel",
          "model_module_version": "1.5.0",
          "state": {
            "_dom_classes": [],
            "_model_module": "@jupyter-widgets/controls",
            "_model_module_version": "1.5.0",
            "_model_name": "HTMLModel",
            "_view_count": null,
            "_view_module": "@jupyter-widgets/controls",
            "_view_module_version": "1.5.0",
            "_view_name": "HTMLView",
            "description": "",
            "description_tooltip": null,
            "layout": "IPY_MODEL_f5d607f0fc57429ab29536d20162e5a5",
            "placeholder": "​",
            "style": "IPY_MODEL_4d070a47119040778d093928c4ef6f20",
            "value": "spiece.model: 100%"
          }
        },
        "a49ddae3a0d242808f7ce95ed99bc805": {
          "model_module": "@jupyter-widgets/controls",
          "model_name": "FloatProgressModel",
          "model_module_version": "1.5.0",
          "state": {
            "_dom_classes": [],
            "_model_module": "@jupyter-widgets/controls",
            "_model_module_version": "1.5.0",
            "_model_name": "FloatProgressModel",
            "_view_count": null,
            "_view_module": "@jupyter-widgets/controls",
            "_view_module_version": "1.5.0",
            "_view_name": "ProgressView",
            "bar_style": "success",
            "description": "",
            "description_tooltip": null,
            "layout": "IPY_MODEL_594e992f723d4b17a9d649005fa45551",
            "max": 791656,
            "min": 0,
            "orientation": "horizontal",
            "style": "IPY_MODEL_fb932ab1153f4e0686ca350e8e9ad582",
            "value": 791656
          }
        },
        "3c006c8af1694783865067a543f946c6": {
          "model_module": "@jupyter-widgets/controls",
          "model_name": "HTMLModel",
          "model_module_version": "1.5.0",
          "state": {
            "_dom_classes": [],
            "_model_module": "@jupyter-widgets/controls",
            "_model_module_version": "1.5.0",
            "_model_name": "HTMLModel",
            "_view_count": null,
            "_view_module": "@jupyter-widgets/controls",
            "_view_module_version": "1.5.0",
            "_view_name": "HTMLView",
            "description": "",
            "description_tooltip": null,
            "layout": "IPY_MODEL_21e3904bb2ab42678caff0c7d755e4a4",
            "placeholder": "​",
            "style": "IPY_MODEL_73337d4efc344d2da6fafd15f7258134",
            "value": " 792k/792k [00:00&lt;00:00, 10.6MB/s]"
          }
        },
        "e060c6e1bfb24308aa294bd4903c9f19": {
          "model_module": "@jupyter-widgets/base",
          "model_name": "LayoutModel",
          "model_module_version": "1.2.0",
          "state": {
            "_model_module": "@jupyter-widgets/base",
            "_model_module_version": "1.2.0",
            "_model_name": "LayoutModel",
            "_view_count": null,
            "_view_module": "@jupyter-widgets/base",
            "_view_module_version": "1.2.0",
            "_view_name": "LayoutView",
            "align_content": null,
            "align_items": null,
            "align_self": null,
            "border": null,
            "bottom": null,
            "display": null,
            "flex": null,
            "flex_flow": null,
            "grid_area": null,
            "grid_auto_columns": null,
            "grid_auto_flow": null,
            "grid_auto_rows": null,
            "grid_column": null,
            "grid_gap": null,
            "grid_row": null,
            "grid_template_areas": null,
            "grid_template_columns": null,
            "grid_template_rows": null,
            "height": null,
            "justify_content": null,
            "justify_items": null,
            "left": null,
            "margin": null,
            "max_height": null,
            "max_width": null,
            "min_height": null,
            "min_width": null,
            "object_fit": null,
            "object_position": null,
            "order": null,
            "overflow": null,
            "overflow_x": null,
            "overflow_y": null,
            "padding": null,
            "right": null,
            "top": null,
            "visibility": null,
            "width": null
          }
        },
        "f5d607f0fc57429ab29536d20162e5a5": {
          "model_module": "@jupyter-widgets/base",
          "model_name": "LayoutModel",
          "model_module_version": "1.2.0",
          "state": {
            "_model_module": "@jupyter-widgets/base",
            "_model_module_version": "1.2.0",
            "_model_name": "LayoutModel",
            "_view_count": null,
            "_view_module": "@jupyter-widgets/base",
            "_view_module_version": "1.2.0",
            "_view_name": "LayoutView",
            "align_content": null,
            "align_items": null,
            "align_self": null,
            "border": null,
            "bottom": null,
            "display": null,
            "flex": null,
            "flex_flow": null,
            "grid_area": null,
            "grid_auto_columns": null,
            "grid_auto_flow": null,
            "grid_auto_rows": null,
            "grid_column": null,
            "grid_gap": null,
            "grid_row": null,
            "grid_template_areas": null,
            "grid_template_columns": null,
            "grid_template_rows": null,
            "height": null,
            "justify_content": null,
            "justify_items": null,
            "left": null,
            "margin": null,
            "max_height": null,
            "max_width": null,
            "min_height": null,
            "min_width": null,
            "object_fit": null,
            "object_position": null,
            "order": null,
            "overflow": null,
            "overflow_x": null,
            "overflow_y": null,
            "padding": null,
            "right": null,
            "top": null,
            "visibility": null,
            "width": null
          }
        },
        "4d070a47119040778d093928c4ef6f20": {
          "model_module": "@jupyter-widgets/controls",
          "model_name": "DescriptionStyleModel",
          "model_module_version": "1.5.0",
          "state": {
            "_model_module": "@jupyter-widgets/controls",
            "_model_module_version": "1.5.0",
            "_model_name": "DescriptionStyleModel",
            "_view_count": null,
            "_view_module": "@jupyter-widgets/base",
            "_view_module_version": "1.2.0",
            "_view_name": "StyleView",
            "description_width": ""
          }
        },
        "594e992f723d4b17a9d649005fa45551": {
          "model_module": "@jupyter-widgets/base",
          "model_name": "LayoutModel",
          "model_module_version": "1.2.0",
          "state": {
            "_model_module": "@jupyter-widgets/base",
            "_model_module_version": "1.2.0",
            "_model_name": "LayoutModel",
            "_view_count": null,
            "_view_module": "@jupyter-widgets/base",
            "_view_module_version": "1.2.0",
            "_view_name": "LayoutView",
            "align_content": null,
            "align_items": null,
            "align_self": null,
            "border": null,
            "bottom": null,
            "display": null,
            "flex": null,
            "flex_flow": null,
            "grid_area": null,
            "grid_auto_columns": null,
            "grid_auto_flow": null,
            "grid_auto_rows": null,
            "grid_column": null,
            "grid_gap": null,
            "grid_row": null,
            "grid_template_areas": null,
            "grid_template_columns": null,
            "grid_template_rows": null,
            "height": null,
            "justify_content": null,
            "justify_items": null,
            "left": null,
            "margin": null,
            "max_height": null,
            "max_width": null,
            "min_height": null,
            "min_width": null,
            "object_fit": null,
            "object_position": null,
            "order": null,
            "overflow": null,
            "overflow_x": null,
            "overflow_y": null,
            "padding": null,
            "right": null,
            "top": null,
            "visibility": null,
            "width": null
          }
        },
        "fb932ab1153f4e0686ca350e8e9ad582": {
          "model_module": "@jupyter-widgets/controls",
          "model_name": "ProgressStyleModel",
          "model_module_version": "1.5.0",
          "state": {
            "_model_module": "@jupyter-widgets/controls",
            "_model_module_version": "1.5.0",
            "_model_name": "ProgressStyleModel",
            "_view_count": null,
            "_view_module": "@jupyter-widgets/base",
            "_view_module_version": "1.2.0",
            "_view_name": "StyleView",
            "bar_color": null,
            "description_width": ""
          }
        },
        "21e3904bb2ab42678caff0c7d755e4a4": {
          "model_module": "@jupyter-widgets/base",
          "model_name": "LayoutModel",
          "model_module_version": "1.2.0",
          "state": {
            "_model_module": "@jupyter-widgets/base",
            "_model_module_version": "1.2.0",
            "_model_name": "LayoutModel",
            "_view_count": null,
            "_view_module": "@jupyter-widgets/base",
            "_view_module_version": "1.2.0",
            "_view_name": "LayoutView",
            "align_content": null,
            "align_items": null,
            "align_self": null,
            "border": null,
            "bottom": null,
            "display": null,
            "flex": null,
            "flex_flow": null,
            "grid_area": null,
            "grid_auto_columns": null,
            "grid_auto_flow": null,
            "grid_auto_rows": null,
            "grid_column": null,
            "grid_gap": null,
            "grid_row": null,
            "grid_template_areas": null,
            "grid_template_columns": null,
            "grid_template_rows": null,
            "height": null,
            "justify_content": null,
            "justify_items": null,
            "left": null,
            "margin": null,
            "max_height": null,
            "max_width": null,
            "min_height": null,
            "min_width": null,
            "object_fit": null,
            "object_position": null,
            "order": null,
            "overflow": null,
            "overflow_x": null,
            "overflow_y": null,
            "padding": null,
            "right": null,
            "top": null,
            "visibility": null,
            "width": null
          }
        },
        "73337d4efc344d2da6fafd15f7258134": {
          "model_module": "@jupyter-widgets/controls",
          "model_name": "DescriptionStyleModel",
          "model_module_version": "1.5.0",
          "state": {
            "_model_module": "@jupyter-widgets/controls",
            "_model_module_version": "1.5.0",
            "_model_name": "DescriptionStyleModel",
            "_view_count": null,
            "_view_module": "@jupyter-widgets/base",
            "_view_module_version": "1.2.0",
            "_view_name": "StyleView",
            "description_width": ""
          }
        },
        "e955307b3b294219919215d5714b688f": {
          "model_module": "@jupyter-widgets/controls",
          "model_name": "HBoxModel",
          "model_module_version": "1.5.0",
          "state": {
            "_dom_classes": [],
            "_model_module": "@jupyter-widgets/controls",
            "_model_module_version": "1.5.0",
            "_model_name": "HBoxModel",
            "_view_count": null,
            "_view_module": "@jupyter-widgets/controls",
            "_view_module_version": "1.5.0",
            "_view_name": "HBoxView",
            "box_style": "",
            "children": [
              "IPY_MODEL_f4aa96a8ab51412c8b276b4c5ba6eef5",
              "IPY_MODEL_b8a854834ffa49b78bae2f3c16819da0",
              "IPY_MODEL_2a94e5e30f574199b382854e810cc5fe"
            ],
            "layout": "IPY_MODEL_e3015122ce074ae095854fb7c8e8b718"
          }
        },
        "f4aa96a8ab51412c8b276b4c5ba6eef5": {
          "model_module": "@jupyter-widgets/controls",
          "model_name": "HTMLModel",
          "model_module_version": "1.5.0",
          "state": {
            "_dom_classes": [],
            "_model_module": "@jupyter-widgets/controls",
            "_model_module_version": "1.5.0",
            "_model_name": "HTMLModel",
            "_view_count": null,
            "_view_module": "@jupyter-widgets/controls",
            "_view_module_version": "1.5.0",
            "_view_name": "HTMLView",
            "description": "",
            "description_tooltip": null,
            "layout": "IPY_MODEL_af7787d14cc74ef895f2e0f47d32a19c",
            "placeholder": "​",
            "style": "IPY_MODEL_24df190a9796415184c82ce915be0770",
            "value": "tokenizer.json: 100%"
          }
        },
        "b8a854834ffa49b78bae2f3c16819da0": {
          "model_module": "@jupyter-widgets/controls",
          "model_name": "FloatProgressModel",
          "model_module_version": "1.5.0",
          "state": {
            "_dom_classes": [],
            "_model_module": "@jupyter-widgets/controls",
            "_model_module_version": "1.5.0",
            "_model_name": "FloatProgressModel",
            "_view_count": null,
            "_view_module": "@jupyter-widgets/controls",
            "_view_module_version": "1.5.0",
            "_view_name": "ProgressView",
            "bar_style": "success",
            "description": "",
            "description_tooltip": null,
            "layout": "IPY_MODEL_98356457f9bb46d4a6a6da882a840d92",
            "max": 1389353,
            "min": 0,
            "orientation": "horizontal",
            "style": "IPY_MODEL_8ca65022e73540ddbb328c67dca58bdd",
            "value": 1389353
          }
        },
        "2a94e5e30f574199b382854e810cc5fe": {
          "model_module": "@jupyter-widgets/controls",
          "model_name": "HTMLModel",
          "model_module_version": "1.5.0",
          "state": {
            "_dom_classes": [],
            "_model_module": "@jupyter-widgets/controls",
            "_model_module_version": "1.5.0",
            "_model_name": "HTMLModel",
            "_view_count": null,
            "_view_module": "@jupyter-widgets/controls",
            "_view_module_version": "1.5.0",
            "_view_name": "HTMLView",
            "description": "",
            "description_tooltip": null,
            "layout": "IPY_MODEL_b141dc65dcc54d468367e4a961cec0fc",
            "placeholder": "​",
            "style": "IPY_MODEL_85ae45477fce436da4bd5d58b2d053cc",
            "value": " 1.39M/1.39M [00:00&lt;00:00, 22.0MB/s]"
          }
        },
        "e3015122ce074ae095854fb7c8e8b718": {
          "model_module": "@jupyter-widgets/base",
          "model_name": "LayoutModel",
          "model_module_version": "1.2.0",
          "state": {
            "_model_module": "@jupyter-widgets/base",
            "_model_module_version": "1.2.0",
            "_model_name": "LayoutModel",
            "_view_count": null,
            "_view_module": "@jupyter-widgets/base",
            "_view_module_version": "1.2.0",
            "_view_name": "LayoutView",
            "align_content": null,
            "align_items": null,
            "align_self": null,
            "border": null,
            "bottom": null,
            "display": null,
            "flex": null,
            "flex_flow": null,
            "grid_area": null,
            "grid_auto_columns": null,
            "grid_auto_flow": null,
            "grid_auto_rows": null,
            "grid_column": null,
            "grid_gap": null,
            "grid_row": null,
            "grid_template_areas": null,
            "grid_template_columns": null,
            "grid_template_rows": null,
            "height": null,
            "justify_content": null,
            "justify_items": null,
            "left": null,
            "margin": null,
            "max_height": null,
            "max_width": null,
            "min_height": null,
            "min_width": null,
            "object_fit": null,
            "object_position": null,
            "order": null,
            "overflow": null,
            "overflow_x": null,
            "overflow_y": null,
            "padding": null,
            "right": null,
            "top": null,
            "visibility": null,
            "width": null
          }
        },
        "af7787d14cc74ef895f2e0f47d32a19c": {
          "model_module": "@jupyter-widgets/base",
          "model_name": "LayoutModel",
          "model_module_version": "1.2.0",
          "state": {
            "_model_module": "@jupyter-widgets/base",
            "_model_module_version": "1.2.0",
            "_model_name": "LayoutModel",
            "_view_count": null,
            "_view_module": "@jupyter-widgets/base",
            "_view_module_version": "1.2.0",
            "_view_name": "LayoutView",
            "align_content": null,
            "align_items": null,
            "align_self": null,
            "border": null,
            "bottom": null,
            "display": null,
            "flex": null,
            "flex_flow": null,
            "grid_area": null,
            "grid_auto_columns": null,
            "grid_auto_flow": null,
            "grid_auto_rows": null,
            "grid_column": null,
            "grid_gap": null,
            "grid_row": null,
            "grid_template_areas": null,
            "grid_template_columns": null,
            "grid_template_rows": null,
            "height": null,
            "justify_content": null,
            "justify_items": null,
            "left": null,
            "margin": null,
            "max_height": null,
            "max_width": null,
            "min_height": null,
            "min_width": null,
            "object_fit": null,
            "object_position": null,
            "order": null,
            "overflow": null,
            "overflow_x": null,
            "overflow_y": null,
            "padding": null,
            "right": null,
            "top": null,
            "visibility": null,
            "width": null
          }
        },
        "24df190a9796415184c82ce915be0770": {
          "model_module": "@jupyter-widgets/controls",
          "model_name": "DescriptionStyleModel",
          "model_module_version": "1.5.0",
          "state": {
            "_model_module": "@jupyter-widgets/controls",
            "_model_module_version": "1.5.0",
            "_model_name": "DescriptionStyleModel",
            "_view_count": null,
            "_view_module": "@jupyter-widgets/base",
            "_view_module_version": "1.2.0",
            "_view_name": "StyleView",
            "description_width": ""
          }
        },
        "98356457f9bb46d4a6a6da882a840d92": {
          "model_module": "@jupyter-widgets/base",
          "model_name": "LayoutModel",
          "model_module_version": "1.2.0",
          "state": {
            "_model_module": "@jupyter-widgets/base",
            "_model_module_version": "1.2.0",
            "_model_name": "LayoutModel",
            "_view_count": null,
            "_view_module": "@jupyter-widgets/base",
            "_view_module_version": "1.2.0",
            "_view_name": "LayoutView",
            "align_content": null,
            "align_items": null,
            "align_self": null,
            "border": null,
            "bottom": null,
            "display": null,
            "flex": null,
            "flex_flow": null,
            "grid_area": null,
            "grid_auto_columns": null,
            "grid_auto_flow": null,
            "grid_auto_rows": null,
            "grid_column": null,
            "grid_gap": null,
            "grid_row": null,
            "grid_template_areas": null,
            "grid_template_columns": null,
            "grid_template_rows": null,
            "height": null,
            "justify_content": null,
            "justify_items": null,
            "left": null,
            "margin": null,
            "max_height": null,
            "max_width": null,
            "min_height": null,
            "min_width": null,
            "object_fit": null,
            "object_position": null,
            "order": null,
            "overflow": null,
            "overflow_x": null,
            "overflow_y": null,
            "padding": null,
            "right": null,
            "top": null,
            "visibility": null,
            "width": null
          }
        },
        "8ca65022e73540ddbb328c67dca58bdd": {
          "model_module": "@jupyter-widgets/controls",
          "model_name": "ProgressStyleModel",
          "model_module_version": "1.5.0",
          "state": {
            "_model_module": "@jupyter-widgets/controls",
            "_model_module_version": "1.5.0",
            "_model_name": "ProgressStyleModel",
            "_view_count": null,
            "_view_module": "@jupyter-widgets/base",
            "_view_module_version": "1.2.0",
            "_view_name": "StyleView",
            "bar_color": null,
            "description_width": ""
          }
        },
        "b141dc65dcc54d468367e4a961cec0fc": {
          "model_module": "@jupyter-widgets/base",
          "model_name": "LayoutModel",
          "model_module_version": "1.2.0",
          "state": {
            "_model_module": "@jupyter-widgets/base",
            "_model_module_version": "1.2.0",
            "_model_name": "LayoutModel",
            "_view_count": null,
            "_view_module": "@jupyter-widgets/base",
            "_view_module_version": "1.2.0",
            "_view_name": "LayoutView",
            "align_content": null,
            "align_items": null,
            "align_self": null,
            "border": null,
            "bottom": null,
            "display": null,
            "flex": null,
            "flex_flow": null,
            "grid_area": null,
            "grid_auto_columns": null,
            "grid_auto_flow": null,
            "grid_auto_rows": null,
            "grid_column": null,
            "grid_gap": null,
            "grid_row": null,
            "grid_template_areas": null,
            "grid_template_columns": null,
            "grid_template_rows": null,
            "height": null,
            "justify_content": null,
            "justify_items": null,
            "left": null,
            "margin": null,
            "max_height": null,
            "max_width": null,
            "min_height": null,
            "min_width": null,
            "object_fit": null,
            "object_position": null,
            "order": null,
            "overflow": null,
            "overflow_x": null,
            "overflow_y": null,
            "padding": null,
            "right": null,
            "top": null,
            "visibility": null,
            "width": null
          }
        },
        "85ae45477fce436da4bd5d58b2d053cc": {
          "model_module": "@jupyter-widgets/controls",
          "model_name": "DescriptionStyleModel",
          "model_module_version": "1.5.0",
          "state": {
            "_model_module": "@jupyter-widgets/controls",
            "_model_module_version": "1.5.0",
            "_model_name": "DescriptionStyleModel",
            "_view_count": null,
            "_view_module": "@jupyter-widgets/base",
            "_view_module_version": "1.2.0",
            "_view_name": "StyleView",
            "description_width": ""
          }
        },
        "eb0ef86837d543b0bb6a46735e86bc25": {
          "model_module": "@jupyter-widgets/controls",
          "model_name": "HBoxModel",
          "model_module_version": "1.5.0",
          "state": {
            "_dom_classes": [],
            "_model_module": "@jupyter-widgets/controls",
            "_model_module_version": "1.5.0",
            "_model_name": "HBoxModel",
            "_view_count": null,
            "_view_module": "@jupyter-widgets/controls",
            "_view_module_version": "1.5.0",
            "_view_name": "HBoxView",
            "box_style": "",
            "children": [
              "IPY_MODEL_bedeffa0a81942ad8a48c94a5cc7963c",
              "IPY_MODEL_da38479a2bcf4da4bdbed59d4a54a99a",
              "IPY_MODEL_4f5525e1912340dc8f05ed0b14dab9f9"
            ],
            "layout": "IPY_MODEL_cbf52200d3bf49989c260fb5b6d0ac64"
          }
        },
        "bedeffa0a81942ad8a48c94a5cc7963c": {
          "model_module": "@jupyter-widgets/controls",
          "model_name": "HTMLModel",
          "model_module_version": "1.5.0",
          "state": {
            "_dom_classes": [],
            "_model_module": "@jupyter-widgets/controls",
            "_model_module_version": "1.5.0",
            "_model_name": "HTMLModel",
            "_view_count": null,
            "_view_module": "@jupyter-widgets/controls",
            "_view_module_version": "1.5.0",
            "_view_name": "HTMLView",
            "description": "",
            "description_tooltip": null,
            "layout": "IPY_MODEL_6359cbfb620a47639f3d9198d63ba335",
            "placeholder": "​",
            "style": "IPY_MODEL_5abd2244e58f4d5999caf6e99c77ca45",
            "value": "Map: 100%"
          }
        },
        "da38479a2bcf4da4bdbed59d4a54a99a": {
          "model_module": "@jupyter-widgets/controls",
          "model_name": "FloatProgressModel",
          "model_module_version": "1.5.0",
          "state": {
            "_dom_classes": [],
            "_model_module": "@jupyter-widgets/controls",
            "_model_module_version": "1.5.0",
            "_model_name": "FloatProgressModel",
            "_view_count": null,
            "_view_module": "@jupyter-widgets/controls",
            "_view_module_version": "1.5.0",
            "_view_name": "ProgressView",
            "bar_style": "success",
            "description": "",
            "description_tooltip": null,
            "layout": "IPY_MODEL_1d9df560ba94423aa3cb55573fd862ac",
            "max": 859,
            "min": 0,
            "orientation": "horizontal",
            "style": "IPY_MODEL_2c534a4006d9472bb8bcdc13fcffae99",
            "value": 859
          }
        },
        "4f5525e1912340dc8f05ed0b14dab9f9": {
          "model_module": "@jupyter-widgets/controls",
          "model_name": "HTMLModel",
          "model_module_version": "1.5.0",
          "state": {
            "_dom_classes": [],
            "_model_module": "@jupyter-widgets/controls",
            "_model_module_version": "1.5.0",
            "_model_name": "HTMLModel",
            "_view_count": null,
            "_view_module": "@jupyter-widgets/controls",
            "_view_module_version": "1.5.0",
            "_view_name": "HTMLView",
            "description": "",
            "description_tooltip": null,
            "layout": "IPY_MODEL_d1f41d5cb2bb43339ebfb044a6fa79f1",
            "placeholder": "​",
            "style": "IPY_MODEL_f055ead98d4544a7a550a287a5ab3e87",
            "value": " 859/859 [00:04&lt;00:00, 193.04 examples/s]"
          }
        },
        "cbf52200d3bf49989c260fb5b6d0ac64": {
          "model_module": "@jupyter-widgets/base",
          "model_name": "LayoutModel",
          "model_module_version": "1.2.0",
          "state": {
            "_model_module": "@jupyter-widgets/base",
            "_model_module_version": "1.2.0",
            "_model_name": "LayoutModel",
            "_view_count": null,
            "_view_module": "@jupyter-widgets/base",
            "_view_module_version": "1.2.0",
            "_view_name": "LayoutView",
            "align_content": null,
            "align_items": null,
            "align_self": null,
            "border": null,
            "bottom": null,
            "display": null,
            "flex": null,
            "flex_flow": null,
            "grid_area": null,
            "grid_auto_columns": null,
            "grid_auto_flow": null,
            "grid_auto_rows": null,
            "grid_column": null,
            "grid_gap": null,
            "grid_row": null,
            "grid_template_areas": null,
            "grid_template_columns": null,
            "grid_template_rows": null,
            "height": null,
            "justify_content": null,
            "justify_items": null,
            "left": null,
            "margin": null,
            "max_height": null,
            "max_width": null,
            "min_height": null,
            "min_width": null,
            "object_fit": null,
            "object_position": null,
            "order": null,
            "overflow": null,
            "overflow_x": null,
            "overflow_y": null,
            "padding": null,
            "right": null,
            "top": null,
            "visibility": null,
            "width": null
          }
        },
        "6359cbfb620a47639f3d9198d63ba335": {
          "model_module": "@jupyter-widgets/base",
          "model_name": "LayoutModel",
          "model_module_version": "1.2.0",
          "state": {
            "_model_module": "@jupyter-widgets/base",
            "_model_module_version": "1.2.0",
            "_model_name": "LayoutModel",
            "_view_count": null,
            "_view_module": "@jupyter-widgets/base",
            "_view_module_version": "1.2.0",
            "_view_name": "LayoutView",
            "align_content": null,
            "align_items": null,
            "align_self": null,
            "border": null,
            "bottom": null,
            "display": null,
            "flex": null,
            "flex_flow": null,
            "grid_area": null,
            "grid_auto_columns": null,
            "grid_auto_flow": null,
            "grid_auto_rows": null,
            "grid_column": null,
            "grid_gap": null,
            "grid_row": null,
            "grid_template_areas": null,
            "grid_template_columns": null,
            "grid_template_rows": null,
            "height": null,
            "justify_content": null,
            "justify_items": null,
            "left": null,
            "margin": null,
            "max_height": null,
            "max_width": null,
            "min_height": null,
            "min_width": null,
            "object_fit": null,
            "object_position": null,
            "order": null,
            "overflow": null,
            "overflow_x": null,
            "overflow_y": null,
            "padding": null,
            "right": null,
            "top": null,
            "visibility": null,
            "width": null
          }
        },
        "5abd2244e58f4d5999caf6e99c77ca45": {
          "model_module": "@jupyter-widgets/controls",
          "model_name": "DescriptionStyleModel",
          "model_module_version": "1.5.0",
          "state": {
            "_model_module": "@jupyter-widgets/controls",
            "_model_module_version": "1.5.0",
            "_model_name": "DescriptionStyleModel",
            "_view_count": null,
            "_view_module": "@jupyter-widgets/base",
            "_view_module_version": "1.2.0",
            "_view_name": "StyleView",
            "description_width": ""
          }
        },
        "1d9df560ba94423aa3cb55573fd862ac": {
          "model_module": "@jupyter-widgets/base",
          "model_name": "LayoutModel",
          "model_module_version": "1.2.0",
          "state": {
            "_model_module": "@jupyter-widgets/base",
            "_model_module_version": "1.2.0",
            "_model_name": "LayoutModel",
            "_view_count": null,
            "_view_module": "@jupyter-widgets/base",
            "_view_module_version": "1.2.0",
            "_view_name": "LayoutView",
            "align_content": null,
            "align_items": null,
            "align_self": null,
            "border": null,
            "bottom": null,
            "display": null,
            "flex": null,
            "flex_flow": null,
            "grid_area": null,
            "grid_auto_columns": null,
            "grid_auto_flow": null,
            "grid_auto_rows": null,
            "grid_column": null,
            "grid_gap": null,
            "grid_row": null,
            "grid_template_areas": null,
            "grid_template_columns": null,
            "grid_template_rows": null,
            "height": null,
            "justify_content": null,
            "justify_items": null,
            "left": null,
            "margin": null,
            "max_height": null,
            "max_width": null,
            "min_height": null,
            "min_width": null,
            "object_fit": null,
            "object_position": null,
            "order": null,
            "overflow": null,
            "overflow_x": null,
            "overflow_y": null,
            "padding": null,
            "right": null,
            "top": null,
            "visibility": null,
            "width": null
          }
        },
        "2c534a4006d9472bb8bcdc13fcffae99": {
          "model_module": "@jupyter-widgets/controls",
          "model_name": "ProgressStyleModel",
          "model_module_version": "1.5.0",
          "state": {
            "_model_module": "@jupyter-widgets/controls",
            "_model_module_version": "1.5.0",
            "_model_name": "ProgressStyleModel",
            "_view_count": null,
            "_view_module": "@jupyter-widgets/base",
            "_view_module_version": "1.2.0",
            "_view_name": "StyleView",
            "bar_color": null,
            "description_width": ""
          }
        },
        "d1f41d5cb2bb43339ebfb044a6fa79f1": {
          "model_module": "@jupyter-widgets/base",
          "model_name": "LayoutModel",
          "model_module_version": "1.2.0",
          "state": {
            "_model_module": "@jupyter-widgets/base",
            "_model_module_version": "1.2.0",
            "_model_name": "LayoutModel",
            "_view_count": null,
            "_view_module": "@jupyter-widgets/base",
            "_view_module_version": "1.2.0",
            "_view_name": "LayoutView",
            "align_content": null,
            "align_items": null,
            "align_self": null,
            "border": null,
            "bottom": null,
            "display": null,
            "flex": null,
            "flex_flow": null,
            "grid_area": null,
            "grid_auto_columns": null,
            "grid_auto_flow": null,
            "grid_auto_rows": null,
            "grid_column": null,
            "grid_gap": null,
            "grid_row": null,
            "grid_template_areas": null,
            "grid_template_columns": null,
            "grid_template_rows": null,
            "height": null,
            "justify_content": null,
            "justify_items": null,
            "left": null,
            "margin": null,
            "max_height": null,
            "max_width": null,
            "min_height": null,
            "min_width": null,
            "object_fit": null,
            "object_position": null,
            "order": null,
            "overflow": null,
            "overflow_x": null,
            "overflow_y": null,
            "padding": null,
            "right": null,
            "top": null,
            "visibility": null,
            "width": null
          }
        },
        "f055ead98d4544a7a550a287a5ab3e87": {
          "model_module": "@jupyter-widgets/controls",
          "model_name": "DescriptionStyleModel",
          "model_module_version": "1.5.0",
          "state": {
            "_model_module": "@jupyter-widgets/controls",
            "_model_module_version": "1.5.0",
            "_model_name": "DescriptionStyleModel",
            "_view_count": null,
            "_view_module": "@jupyter-widgets/base",
            "_view_module_version": "1.2.0",
            "_view_name": "StyleView",
            "description_width": ""
          }
        },
        "e3beebebdde149b68cafc0504df27565": {
          "model_module": "@jupyter-widgets/controls",
          "model_name": "HBoxModel",
          "model_module_version": "1.5.0",
          "state": {
            "_dom_classes": [],
            "_model_module": "@jupyter-widgets/controls",
            "_model_module_version": "1.5.0",
            "_model_name": "HBoxModel",
            "_view_count": null,
            "_view_module": "@jupyter-widgets/controls",
            "_view_module_version": "1.5.0",
            "_view_name": "HBoxView",
            "box_style": "",
            "children": [
              "IPY_MODEL_2fea84472d1742abbc629e83b998d31c",
              "IPY_MODEL_0d2e51f6ac554c69b654e24f02b5d83e",
              "IPY_MODEL_57b4b377c1e94ee5a4db4d085c5cc750"
            ],
            "layout": "IPY_MODEL_ddd56193b294496791478c6c5d53de38"
          }
        },
        "2fea84472d1742abbc629e83b998d31c": {
          "model_module": "@jupyter-widgets/controls",
          "model_name": "HTMLModel",
          "model_module_version": "1.5.0",
          "state": {
            "_dom_classes": [],
            "_model_module": "@jupyter-widgets/controls",
            "_model_module_version": "1.5.0",
            "_model_name": "HTMLModel",
            "_view_count": null,
            "_view_module": "@jupyter-widgets/controls",
            "_view_module_version": "1.5.0",
            "_view_name": "HTMLView",
            "description": "",
            "description_tooltip": null,
            "layout": "IPY_MODEL_56a71ddc1ff046c9830d68ff9d262b87",
            "placeholder": "​",
            "style": "IPY_MODEL_d9da7ffcb9c34659af960d66ce5110b1",
            "value": "Map: 100%"
          }
        },
        "0d2e51f6ac554c69b654e24f02b5d83e": {
          "model_module": "@jupyter-widgets/controls",
          "model_name": "FloatProgressModel",
          "model_module_version": "1.5.0",
          "state": {
            "_dom_classes": [],
            "_model_module": "@jupyter-widgets/controls",
            "_model_module_version": "1.5.0",
            "_model_name": "FloatProgressModel",
            "_view_count": null,
            "_view_module": "@jupyter-widgets/controls",
            "_view_module_version": "1.5.0",
            "_view_name": "ProgressView",
            "bar_style": "success",
            "description": "",
            "description_tooltip": null,
            "layout": "IPY_MODEL_9ef1c8595708418a8c40ba775a030ec6",
            "max": 215,
            "min": 0,
            "orientation": "horizontal",
            "style": "IPY_MODEL_468e9e0748e544ae9eba0b368597a29f",
            "value": 215
          }
        },
        "57b4b377c1e94ee5a4db4d085c5cc750": {
          "model_module": "@jupyter-widgets/controls",
          "model_name": "HTMLModel",
          "model_module_version": "1.5.0",
          "state": {
            "_dom_classes": [],
            "_model_module": "@jupyter-widgets/controls",
            "_model_module_version": "1.5.0",
            "_model_name": "HTMLModel",
            "_view_count": null,
            "_view_module": "@jupyter-widgets/controls",
            "_view_module_version": "1.5.0",
            "_view_name": "HTMLView",
            "description": "",
            "description_tooltip": null,
            "layout": "IPY_MODEL_d9f4bb2ce1b14594bb267fcb78ba5c8f",
            "placeholder": "​",
            "style": "IPY_MODEL_a6f380ad0aeb466db1850a3cca360711",
            "value": " 215/215 [00:00&lt;00:00, 264.01 examples/s]"
          }
        },
        "ddd56193b294496791478c6c5d53de38": {
          "model_module": "@jupyter-widgets/base",
          "model_name": "LayoutModel",
          "model_module_version": "1.2.0",
          "state": {
            "_model_module": "@jupyter-widgets/base",
            "_model_module_version": "1.2.0",
            "_model_name": "LayoutModel",
            "_view_count": null,
            "_view_module": "@jupyter-widgets/base",
            "_view_module_version": "1.2.0",
            "_view_name": "LayoutView",
            "align_content": null,
            "align_items": null,
            "align_self": null,
            "border": null,
            "bottom": null,
            "display": null,
            "flex": null,
            "flex_flow": null,
            "grid_area": null,
            "grid_auto_columns": null,
            "grid_auto_flow": null,
            "grid_auto_rows": null,
            "grid_column": null,
            "grid_gap": null,
            "grid_row": null,
            "grid_template_areas": null,
            "grid_template_columns": null,
            "grid_template_rows": null,
            "height": null,
            "justify_content": null,
            "justify_items": null,
            "left": null,
            "margin": null,
            "max_height": null,
            "max_width": null,
            "min_height": null,
            "min_width": null,
            "object_fit": null,
            "object_position": null,
            "order": null,
            "overflow": null,
            "overflow_x": null,
            "overflow_y": null,
            "padding": null,
            "right": null,
            "top": null,
            "visibility": null,
            "width": null
          }
        },
        "56a71ddc1ff046c9830d68ff9d262b87": {
          "model_module": "@jupyter-widgets/base",
          "model_name": "LayoutModel",
          "model_module_version": "1.2.0",
          "state": {
            "_model_module": "@jupyter-widgets/base",
            "_model_module_version": "1.2.0",
            "_model_name": "LayoutModel",
            "_view_count": null,
            "_view_module": "@jupyter-widgets/base",
            "_view_module_version": "1.2.0",
            "_view_name": "LayoutView",
            "align_content": null,
            "align_items": null,
            "align_self": null,
            "border": null,
            "bottom": null,
            "display": null,
            "flex": null,
            "flex_flow": null,
            "grid_area": null,
            "grid_auto_columns": null,
            "grid_auto_flow": null,
            "grid_auto_rows": null,
            "grid_column": null,
            "grid_gap": null,
            "grid_row": null,
            "grid_template_areas": null,
            "grid_template_columns": null,
            "grid_template_rows": null,
            "height": null,
            "justify_content": null,
            "justify_items": null,
            "left": null,
            "margin": null,
            "max_height": null,
            "max_width": null,
            "min_height": null,
            "min_width": null,
            "object_fit": null,
            "object_position": null,
            "order": null,
            "overflow": null,
            "overflow_x": null,
            "overflow_y": null,
            "padding": null,
            "right": null,
            "top": null,
            "visibility": null,
            "width": null
          }
        },
        "d9da7ffcb9c34659af960d66ce5110b1": {
          "model_module": "@jupyter-widgets/controls",
          "model_name": "DescriptionStyleModel",
          "model_module_version": "1.5.0",
          "state": {
            "_model_module": "@jupyter-widgets/controls",
            "_model_module_version": "1.5.0",
            "_model_name": "DescriptionStyleModel",
            "_view_count": null,
            "_view_module": "@jupyter-widgets/base",
            "_view_module_version": "1.2.0",
            "_view_name": "StyleView",
            "description_width": ""
          }
        },
        "9ef1c8595708418a8c40ba775a030ec6": {
          "model_module": "@jupyter-widgets/base",
          "model_name": "LayoutModel",
          "model_module_version": "1.2.0",
          "state": {
            "_model_module": "@jupyter-widgets/base",
            "_model_module_version": "1.2.0",
            "_model_name": "LayoutModel",
            "_view_count": null,
            "_view_module": "@jupyter-widgets/base",
            "_view_module_version": "1.2.0",
            "_view_name": "LayoutView",
            "align_content": null,
            "align_items": null,
            "align_self": null,
            "border": null,
            "bottom": null,
            "display": null,
            "flex": null,
            "flex_flow": null,
            "grid_area": null,
            "grid_auto_columns": null,
            "grid_auto_flow": null,
            "grid_auto_rows": null,
            "grid_column": null,
            "grid_gap": null,
            "grid_row": null,
            "grid_template_areas": null,
            "grid_template_columns": null,
            "grid_template_rows": null,
            "height": null,
            "justify_content": null,
            "justify_items": null,
            "left": null,
            "margin": null,
            "max_height": null,
            "max_width": null,
            "min_height": null,
            "min_width": null,
            "object_fit": null,
            "object_position": null,
            "order": null,
            "overflow": null,
            "overflow_x": null,
            "overflow_y": null,
            "padding": null,
            "right": null,
            "top": null,
            "visibility": null,
            "width": null
          }
        },
        "468e9e0748e544ae9eba0b368597a29f": {
          "model_module": "@jupyter-widgets/controls",
          "model_name": "ProgressStyleModel",
          "model_module_version": "1.5.0",
          "state": {
            "_model_module": "@jupyter-widgets/controls",
            "_model_module_version": "1.5.0",
            "_model_name": "ProgressStyleModel",
            "_view_count": null,
            "_view_module": "@jupyter-widgets/base",
            "_view_module_version": "1.2.0",
            "_view_name": "StyleView",
            "bar_color": null,
            "description_width": ""
          }
        },
        "d9f4bb2ce1b14594bb267fcb78ba5c8f": {
          "model_module": "@jupyter-widgets/base",
          "model_name": "LayoutModel",
          "model_module_version": "1.2.0",
          "state": {
            "_model_module": "@jupyter-widgets/base",
            "_model_module_version": "1.2.0",
            "_model_name": "LayoutModel",
            "_view_count": null,
            "_view_module": "@jupyter-widgets/base",
            "_view_module_version": "1.2.0",
            "_view_name": "LayoutView",
            "align_content": null,
            "align_items": null,
            "align_self": null,
            "border": null,
            "bottom": null,
            "display": null,
            "flex": null,
            "flex_flow": null,
            "grid_area": null,
            "grid_auto_columns": null,
            "grid_auto_flow": null,
            "grid_auto_rows": null,
            "grid_column": null,
            "grid_gap": null,
            "grid_row": null,
            "grid_template_areas": null,
            "grid_template_columns": null,
            "grid_template_rows": null,
            "height": null,
            "justify_content": null,
            "justify_items": null,
            "left": null,
            "margin": null,
            "max_height": null,
            "max_width": null,
            "min_height": null,
            "min_width": null,
            "object_fit": null,
            "object_position": null,
            "order": null,
            "overflow": null,
            "overflow_x": null,
            "overflow_y": null,
            "padding": null,
            "right": null,
            "top": null,
            "visibility": null,
            "width": null
          }
        },
        "a6f380ad0aeb466db1850a3cca360711": {
          "model_module": "@jupyter-widgets/controls",
          "model_name": "DescriptionStyleModel",
          "model_module_version": "1.5.0",
          "state": {
            "_model_module": "@jupyter-widgets/controls",
            "_model_module_version": "1.5.0",
            "_model_name": "DescriptionStyleModel",
            "_view_count": null,
            "_view_module": "@jupyter-widgets/base",
            "_view_module_version": "1.2.0",
            "_view_name": "StyleView",
            "description_width": ""
          }
        },
        "c4c174e9731743a184d3fbb2cd1469d1": {
          "model_module": "@jupyter-widgets/controls",
          "model_name": "HBoxModel",
          "model_module_version": "1.5.0",
          "state": {
            "_dom_classes": [],
            "_model_module": "@jupyter-widgets/controls",
            "_model_module_version": "1.5.0",
            "_model_name": "HBoxModel",
            "_view_count": null,
            "_view_module": "@jupyter-widgets/controls",
            "_view_module_version": "1.5.0",
            "_view_name": "HBoxView",
            "box_style": "",
            "children": [
              "IPY_MODEL_518e3e184b30426db7798a2ceed3c6a9",
              "IPY_MODEL_2f7d53c066a747049433122bc17bd46a",
              "IPY_MODEL_45c3c3a7436448548e133f6f18f2d4bd"
            ],
            "layout": "IPY_MODEL_5af2075985df469fbd4481891deb738a"
          }
        },
        "518e3e184b30426db7798a2ceed3c6a9": {
          "model_module": "@jupyter-widgets/controls",
          "model_name": "HTMLModel",
          "model_module_version": "1.5.0",
          "state": {
            "_dom_classes": [],
            "_model_module": "@jupyter-widgets/controls",
            "_model_module_version": "1.5.0",
            "_model_name": "HTMLModel",
            "_view_count": null,
            "_view_module": "@jupyter-widgets/controls",
            "_view_module_version": "1.5.0",
            "_view_name": "HTMLView",
            "description": "",
            "description_tooltip": null,
            "layout": "IPY_MODEL_6b38f797154c4a2d8f09eff50d99eae2",
            "placeholder": "​",
            "style": "IPY_MODEL_f652d67001914e07a2397ca5ff0d33f5",
            "value": "config.json: 100%"
          }
        },
        "2f7d53c066a747049433122bc17bd46a": {
          "model_module": "@jupyter-widgets/controls",
          "model_name": "FloatProgressModel",
          "model_module_version": "1.5.0",
          "state": {
            "_dom_classes": [],
            "_model_module": "@jupyter-widgets/controls",
            "_model_module_version": "1.5.0",
            "_model_name": "FloatProgressModel",
            "_view_count": null,
            "_view_module": "@jupyter-widgets/controls",
            "_view_module_version": "1.5.0",
            "_view_name": "ProgressView",
            "bar_style": "success",
            "description": "",
            "description_tooltip": null,
            "layout": "IPY_MODEL_6e93d08fc5ac44a8a11124709b2e624b",
            "max": 1206,
            "min": 0,
            "orientation": "horizontal",
            "style": "IPY_MODEL_2ea13cf82ef345a0849731a8bbb33936",
            "value": 1206
          }
        },
        "45c3c3a7436448548e133f6f18f2d4bd": {
          "model_module": "@jupyter-widgets/controls",
          "model_name": "HTMLModel",
          "model_module_version": "1.5.0",
          "state": {
            "_dom_classes": [],
            "_model_module": "@jupyter-widgets/controls",
            "_model_module_version": "1.5.0",
            "_model_name": "HTMLModel",
            "_view_count": null,
            "_view_module": "@jupyter-widgets/controls",
            "_view_module_version": "1.5.0",
            "_view_name": "HTMLView",
            "description": "",
            "description_tooltip": null,
            "layout": "IPY_MODEL_0dd9231c7c994cf68898b91d55e61704",
            "placeholder": "​",
            "style": "IPY_MODEL_33d422ed08634b8583ef2dcc2641a9ea",
            "value": " 1.21k/1.21k [00:00&lt;00:00, 28.9kB/s]"
          }
        },
        "5af2075985df469fbd4481891deb738a": {
          "model_module": "@jupyter-widgets/base",
          "model_name": "LayoutModel",
          "model_module_version": "1.2.0",
          "state": {
            "_model_module": "@jupyter-widgets/base",
            "_model_module_version": "1.2.0",
            "_model_name": "LayoutModel",
            "_view_count": null,
            "_view_module": "@jupyter-widgets/base",
            "_view_module_version": "1.2.0",
            "_view_name": "LayoutView",
            "align_content": null,
            "align_items": null,
            "align_self": null,
            "border": null,
            "bottom": null,
            "display": null,
            "flex": null,
            "flex_flow": null,
            "grid_area": null,
            "grid_auto_columns": null,
            "grid_auto_flow": null,
            "grid_auto_rows": null,
            "grid_column": null,
            "grid_gap": null,
            "grid_row": null,
            "grid_template_areas": null,
            "grid_template_columns": null,
            "grid_template_rows": null,
            "height": null,
            "justify_content": null,
            "justify_items": null,
            "left": null,
            "margin": null,
            "max_height": null,
            "max_width": null,
            "min_height": null,
            "min_width": null,
            "object_fit": null,
            "object_position": null,
            "order": null,
            "overflow": null,
            "overflow_x": null,
            "overflow_y": null,
            "padding": null,
            "right": null,
            "top": null,
            "visibility": null,
            "width": null
          }
        },
        "6b38f797154c4a2d8f09eff50d99eae2": {
          "model_module": "@jupyter-widgets/base",
          "model_name": "LayoutModel",
          "model_module_version": "1.2.0",
          "state": {
            "_model_module": "@jupyter-widgets/base",
            "_model_module_version": "1.2.0",
            "_model_name": "LayoutModel",
            "_view_count": null,
            "_view_module": "@jupyter-widgets/base",
            "_view_module_version": "1.2.0",
            "_view_name": "LayoutView",
            "align_content": null,
            "align_items": null,
            "align_self": null,
            "border": null,
            "bottom": null,
            "display": null,
            "flex": null,
            "flex_flow": null,
            "grid_area": null,
            "grid_auto_columns": null,
            "grid_auto_flow": null,
            "grid_auto_rows": null,
            "grid_column": null,
            "grid_gap": null,
            "grid_row": null,
            "grid_template_areas": null,
            "grid_template_columns": null,
            "grid_template_rows": null,
            "height": null,
            "justify_content": null,
            "justify_items": null,
            "left": null,
            "margin": null,
            "max_height": null,
            "max_width": null,
            "min_height": null,
            "min_width": null,
            "object_fit": null,
            "object_position": null,
            "order": null,
            "overflow": null,
            "overflow_x": null,
            "overflow_y": null,
            "padding": null,
            "right": null,
            "top": null,
            "visibility": null,
            "width": null
          }
        },
        "f652d67001914e07a2397ca5ff0d33f5": {
          "model_module": "@jupyter-widgets/controls",
          "model_name": "DescriptionStyleModel",
          "model_module_version": "1.5.0",
          "state": {
            "_model_module": "@jupyter-widgets/controls",
            "_model_module_version": "1.5.0",
            "_model_name": "DescriptionStyleModel",
            "_view_count": null,
            "_view_module": "@jupyter-widgets/base",
            "_view_module_version": "1.2.0",
            "_view_name": "StyleView",
            "description_width": ""
          }
        },
        "6e93d08fc5ac44a8a11124709b2e624b": {
          "model_module": "@jupyter-widgets/base",
          "model_name": "LayoutModel",
          "model_module_version": "1.2.0",
          "state": {
            "_model_module": "@jupyter-widgets/base",
            "_model_module_version": "1.2.0",
            "_model_name": "LayoutModel",
            "_view_count": null,
            "_view_module": "@jupyter-widgets/base",
            "_view_module_version": "1.2.0",
            "_view_name": "LayoutView",
            "align_content": null,
            "align_items": null,
            "align_self": null,
            "border": null,
            "bottom": null,
            "display": null,
            "flex": null,
            "flex_flow": null,
            "grid_area": null,
            "grid_auto_columns": null,
            "grid_auto_flow": null,
            "grid_auto_rows": null,
            "grid_column": null,
            "grid_gap": null,
            "grid_row": null,
            "grid_template_areas": null,
            "grid_template_columns": null,
            "grid_template_rows": null,
            "height": null,
            "justify_content": null,
            "justify_items": null,
            "left": null,
            "margin": null,
            "max_height": null,
            "max_width": null,
            "min_height": null,
            "min_width": null,
            "object_fit": null,
            "object_position": null,
            "order": null,
            "overflow": null,
            "overflow_x": null,
            "overflow_y": null,
            "padding": null,
            "right": null,
            "top": null,
            "visibility": null,
            "width": null
          }
        },
        "2ea13cf82ef345a0849731a8bbb33936": {
          "model_module": "@jupyter-widgets/controls",
          "model_name": "ProgressStyleModel",
          "model_module_version": "1.5.0",
          "state": {
            "_model_module": "@jupyter-widgets/controls",
            "_model_module_version": "1.5.0",
            "_model_name": "ProgressStyleModel",
            "_view_count": null,
            "_view_module": "@jupyter-widgets/base",
            "_view_module_version": "1.2.0",
            "_view_name": "StyleView",
            "bar_color": null,
            "description_width": ""
          }
        },
        "0dd9231c7c994cf68898b91d55e61704": {
          "model_module": "@jupyter-widgets/base",
          "model_name": "LayoutModel",
          "model_module_version": "1.2.0",
          "state": {
            "_model_module": "@jupyter-widgets/base",
            "_model_module_version": "1.2.0",
            "_model_name": "LayoutModel",
            "_view_count": null,
            "_view_module": "@jupyter-widgets/base",
            "_view_module_version": "1.2.0",
            "_view_name": "LayoutView",
            "align_content": null,
            "align_items": null,
            "align_self": null,
            "border": null,
            "bottom": null,
            "display": null,
            "flex": null,
            "flex_flow": null,
            "grid_area": null,
            "grid_auto_columns": null,
            "grid_auto_flow": null,
            "grid_auto_rows": null,
            "grid_column": null,
            "grid_gap": null,
            "grid_row": null,
            "grid_template_areas": null,
            "grid_template_columns": null,
            "grid_template_rows": null,
            "height": null,
            "justify_content": null,
            "justify_items": null,
            "left": null,
            "margin": null,
            "max_height": null,
            "max_width": null,
            "min_height": null,
            "min_width": null,
            "object_fit": null,
            "object_position": null,
            "order": null,
            "overflow": null,
            "overflow_x": null,
            "overflow_y": null,
            "padding": null,
            "right": null,
            "top": null,
            "visibility": null,
            "width": null
          }
        },
        "33d422ed08634b8583ef2dcc2641a9ea": {
          "model_module": "@jupyter-widgets/controls",
          "model_name": "DescriptionStyleModel",
          "model_module_version": "1.5.0",
          "state": {
            "_model_module": "@jupyter-widgets/controls",
            "_model_module_version": "1.5.0",
            "_model_name": "DescriptionStyleModel",
            "_view_count": null,
            "_view_module": "@jupyter-widgets/base",
            "_view_module_version": "1.2.0",
            "_view_name": "StyleView",
            "description_width": ""
          }
        },
        "6d9fdbea7a6941c99231476e8d994c2f": {
          "model_module": "@jupyter-widgets/controls",
          "model_name": "HBoxModel",
          "model_module_version": "1.5.0",
          "state": {
            "_dom_classes": [],
            "_model_module": "@jupyter-widgets/controls",
            "_model_module_version": "1.5.0",
            "_model_name": "HBoxModel",
            "_view_count": null,
            "_view_module": "@jupyter-widgets/controls",
            "_view_module_version": "1.5.0",
            "_view_name": "HBoxView",
            "box_style": "",
            "children": [
              "IPY_MODEL_5174d4abdc774964b6779e0b47b12f26",
              "IPY_MODEL_cff26df543404dbf949b85aae13df210",
              "IPY_MODEL_75ee74bf83c64429a46a794fc529f238"
            ],
            "layout": "IPY_MODEL_143e1a7a9bd64e34aca5a6a54bf000cb"
          }
        },
        "5174d4abdc774964b6779e0b47b12f26": {
          "model_module": "@jupyter-widgets/controls",
          "model_name": "HTMLModel",
          "model_module_version": "1.5.0",
          "state": {
            "_dom_classes": [],
            "_model_module": "@jupyter-widgets/controls",
            "_model_module_version": "1.5.0",
            "_model_name": "HTMLModel",
            "_view_count": null,
            "_view_module": "@jupyter-widgets/controls",
            "_view_module_version": "1.5.0",
            "_view_name": "HTMLView",
            "description": "",
            "description_tooltip": null,
            "layout": "IPY_MODEL_dceee4509bef49679a11e4dd5bb828f9",
            "placeholder": "​",
            "style": "IPY_MODEL_c82bb795c4ac4134b0abd091dc01b977",
            "value": "model.safetensors: 100%"
          }
        },
        "cff26df543404dbf949b85aae13df210": {
          "model_module": "@jupyter-widgets/controls",
          "model_name": "FloatProgressModel",
          "model_module_version": "1.5.0",
          "state": {
            "_dom_classes": [],
            "_model_module": "@jupyter-widgets/controls",
            "_model_module_version": "1.5.0",
            "_model_name": "FloatProgressModel",
            "_view_count": null,
            "_view_module": "@jupyter-widgets/controls",
            "_view_module_version": "1.5.0",
            "_view_name": "ProgressView",
            "bar_style": "success",
            "description": "",
            "description_tooltip": null,
            "layout": "IPY_MODEL_6777bc8dfa474254a6ac5cb692c93f91",
            "max": 242043056,
            "min": 0,
            "orientation": "horizontal",
            "style": "IPY_MODEL_ceb458878de641b7b3b0438ba71e97eb",
            "value": 242043056
          }
        },
        "75ee74bf83c64429a46a794fc529f238": {
          "model_module": "@jupyter-widgets/controls",
          "model_name": "HTMLModel",
          "model_module_version": "1.5.0",
          "state": {
            "_dom_classes": [],
            "_model_module": "@jupyter-widgets/controls",
            "_model_module_version": "1.5.0",
            "_model_name": "HTMLModel",
            "_view_count": null,
            "_view_module": "@jupyter-widgets/controls",
            "_view_module_version": "1.5.0",
            "_view_name": "HTMLView",
            "description": "",
            "description_tooltip": null,
            "layout": "IPY_MODEL_7a5cbe8fe2cb4177a0e67d3245c5390f",
            "placeholder": "​",
            "style": "IPY_MODEL_47151b21adb647369787bbad772ecefd",
            "value": " 242M/242M [00:02&lt;00:00, 173MB/s]"
          }
        },
        "143e1a7a9bd64e34aca5a6a54bf000cb": {
          "model_module": "@jupyter-widgets/base",
          "model_name": "LayoutModel",
          "model_module_version": "1.2.0",
          "state": {
            "_model_module": "@jupyter-widgets/base",
            "_model_module_version": "1.2.0",
            "_model_name": "LayoutModel",
            "_view_count": null,
            "_view_module": "@jupyter-widgets/base",
            "_view_module_version": "1.2.0",
            "_view_name": "LayoutView",
            "align_content": null,
            "align_items": null,
            "align_self": null,
            "border": null,
            "bottom": null,
            "display": null,
            "flex": null,
            "flex_flow": null,
            "grid_area": null,
            "grid_auto_columns": null,
            "grid_auto_flow": null,
            "grid_auto_rows": null,
            "grid_column": null,
            "grid_gap": null,
            "grid_row": null,
            "grid_template_areas": null,
            "grid_template_columns": null,
            "grid_template_rows": null,
            "height": null,
            "justify_content": null,
            "justify_items": null,
            "left": null,
            "margin": null,
            "max_height": null,
            "max_width": null,
            "min_height": null,
            "min_width": null,
            "object_fit": null,
            "object_position": null,
            "order": null,
            "overflow": null,
            "overflow_x": null,
            "overflow_y": null,
            "padding": null,
            "right": null,
            "top": null,
            "visibility": null,
            "width": null
          }
        },
        "dceee4509bef49679a11e4dd5bb828f9": {
          "model_module": "@jupyter-widgets/base",
          "model_name": "LayoutModel",
          "model_module_version": "1.2.0",
          "state": {
            "_model_module": "@jupyter-widgets/base",
            "_model_module_version": "1.2.0",
            "_model_name": "LayoutModel",
            "_view_count": null,
            "_view_module": "@jupyter-widgets/base",
            "_view_module_version": "1.2.0",
            "_view_name": "LayoutView",
            "align_content": null,
            "align_items": null,
            "align_self": null,
            "border": null,
            "bottom": null,
            "display": null,
            "flex": null,
            "flex_flow": null,
            "grid_area": null,
            "grid_auto_columns": null,
            "grid_auto_flow": null,
            "grid_auto_rows": null,
            "grid_column": null,
            "grid_gap": null,
            "grid_row": null,
            "grid_template_areas": null,
            "grid_template_columns": null,
            "grid_template_rows": null,
            "height": null,
            "justify_content": null,
            "justify_items": null,
            "left": null,
            "margin": null,
            "max_height": null,
            "max_width": null,
            "min_height": null,
            "min_width": null,
            "object_fit": null,
            "object_position": null,
            "order": null,
            "overflow": null,
            "overflow_x": null,
            "overflow_y": null,
            "padding": null,
            "right": null,
            "top": null,
            "visibility": null,
            "width": null
          }
        },
        "c82bb795c4ac4134b0abd091dc01b977": {
          "model_module": "@jupyter-widgets/controls",
          "model_name": "DescriptionStyleModel",
          "model_module_version": "1.5.0",
          "state": {
            "_model_module": "@jupyter-widgets/controls",
            "_model_module_version": "1.5.0",
            "_model_name": "DescriptionStyleModel",
            "_view_count": null,
            "_view_module": "@jupyter-widgets/base",
            "_view_module_version": "1.2.0",
            "_view_name": "StyleView",
            "description_width": ""
          }
        },
        "6777bc8dfa474254a6ac5cb692c93f91": {
          "model_module": "@jupyter-widgets/base",
          "model_name": "LayoutModel",
          "model_module_version": "1.2.0",
          "state": {
            "_model_module": "@jupyter-widgets/base",
            "_model_module_version": "1.2.0",
            "_model_name": "LayoutModel",
            "_view_count": null,
            "_view_module": "@jupyter-widgets/base",
            "_view_module_version": "1.2.0",
            "_view_name": "LayoutView",
            "align_content": null,
            "align_items": null,
            "align_self": null,
            "border": null,
            "bottom": null,
            "display": null,
            "flex": null,
            "flex_flow": null,
            "grid_area": null,
            "grid_auto_columns": null,
            "grid_auto_flow": null,
            "grid_auto_rows": null,
            "grid_column": null,
            "grid_gap": null,
            "grid_row": null,
            "grid_template_areas": null,
            "grid_template_columns": null,
            "grid_template_rows": null,
            "height": null,
            "justify_content": null,
            "justify_items": null,
            "left": null,
            "margin": null,
            "max_height": null,
            "max_width": null,
            "min_height": null,
            "min_width": null,
            "object_fit": null,
            "object_position": null,
            "order": null,
            "overflow": null,
            "overflow_x": null,
            "overflow_y": null,
            "padding": null,
            "right": null,
            "top": null,
            "visibility": null,
            "width": null
          }
        },
        "ceb458878de641b7b3b0438ba71e97eb": {
          "model_module": "@jupyter-widgets/controls",
          "model_name": "ProgressStyleModel",
          "model_module_version": "1.5.0",
          "state": {
            "_model_module": "@jupyter-widgets/controls",
            "_model_module_version": "1.5.0",
            "_model_name": "ProgressStyleModel",
            "_view_count": null,
            "_view_module": "@jupyter-widgets/base",
            "_view_module_version": "1.2.0",
            "_view_name": "StyleView",
            "bar_color": null,
            "description_width": ""
          }
        },
        "7a5cbe8fe2cb4177a0e67d3245c5390f": {
          "model_module": "@jupyter-widgets/base",
          "model_name": "LayoutModel",
          "model_module_version": "1.2.0",
          "state": {
            "_model_module": "@jupyter-widgets/base",
            "_model_module_version": "1.2.0",
            "_model_name": "LayoutModel",
            "_view_count": null,
            "_view_module": "@jupyter-widgets/base",
            "_view_module_version": "1.2.0",
            "_view_name": "LayoutView",
            "align_content": null,
            "align_items": null,
            "align_self": null,
            "border": null,
            "bottom": null,
            "display": null,
            "flex": null,
            "flex_flow": null,
            "grid_area": null,
            "grid_auto_columns": null,
            "grid_auto_flow": null,
            "grid_auto_rows": null,
            "grid_column": null,
            "grid_gap": null,
            "grid_row": null,
            "grid_template_areas": null,
            "grid_template_columns": null,
            "grid_template_rows": null,
            "height": null,
            "justify_content": null,
            "justify_items": null,
            "left": null,
            "margin": null,
            "max_height": null,
            "max_width": null,
            "min_height": null,
            "min_width": null,
            "object_fit": null,
            "object_position": null,
            "order": null,
            "overflow": null,
            "overflow_x": null,
            "overflow_y": null,
            "padding": null,
            "right": null,
            "top": null,
            "visibility": null,
            "width": null
          }
        },
        "47151b21adb647369787bbad772ecefd": {
          "model_module": "@jupyter-widgets/controls",
          "model_name": "DescriptionStyleModel",
          "model_module_version": "1.5.0",
          "state": {
            "_model_module": "@jupyter-widgets/controls",
            "_model_module_version": "1.5.0",
            "_model_name": "DescriptionStyleModel",
            "_view_count": null,
            "_view_module": "@jupyter-widgets/base",
            "_view_module_version": "1.2.0",
            "_view_name": "StyleView",
            "description_width": ""
          }
        },
        "9829203907954f3595dccdffc5682265": {
          "model_module": "@jupyter-widgets/controls",
          "model_name": "HBoxModel",
          "model_module_version": "1.5.0",
          "state": {
            "_dom_classes": [],
            "_model_module": "@jupyter-widgets/controls",
            "_model_module_version": "1.5.0",
            "_model_name": "HBoxModel",
            "_view_count": null,
            "_view_module": "@jupyter-widgets/controls",
            "_view_module_version": "1.5.0",
            "_view_name": "HBoxView",
            "box_style": "",
            "children": [
              "IPY_MODEL_8d3527ba1fa7458591d13c9fe40b32f2",
              "IPY_MODEL_bda89b80f4c04fcba6d41ff7bdb28288",
              "IPY_MODEL_457cc5e4762a44ccb48d7bdcae4500f3"
            ],
            "layout": "IPY_MODEL_288d0fbd73f942b4834be5a54bcce11f"
          }
        },
        "8d3527ba1fa7458591d13c9fe40b32f2": {
          "model_module": "@jupyter-widgets/controls",
          "model_name": "HTMLModel",
          "model_module_version": "1.5.0",
          "state": {
            "_dom_classes": [],
            "_model_module": "@jupyter-widgets/controls",
            "_model_module_version": "1.5.0",
            "_model_name": "HTMLModel",
            "_view_count": null,
            "_view_module": "@jupyter-widgets/controls",
            "_view_module_version": "1.5.0",
            "_view_name": "HTMLView",
            "description": "",
            "description_tooltip": null,
            "layout": "IPY_MODEL_85dab3526b0a470c9dc530cf766c149c",
            "placeholder": "​",
            "style": "IPY_MODEL_24f4d6bea8444aeca910810360ba19a9",
            "value": "generation_config.json: 100%"
          }
        },
        "bda89b80f4c04fcba6d41ff7bdb28288": {
          "model_module": "@jupyter-widgets/controls",
          "model_name": "FloatProgressModel",
          "model_module_version": "1.5.0",
          "state": {
            "_dom_classes": [],
            "_model_module": "@jupyter-widgets/controls",
            "_model_module_version": "1.5.0",
            "_model_name": "FloatProgressModel",
            "_view_count": null,
            "_view_module": "@jupyter-widgets/controls",
            "_view_module_version": "1.5.0",
            "_view_name": "ProgressView",
            "bar_style": "success",
            "description": "",
            "description_tooltip": null,
            "layout": "IPY_MODEL_7a53dfc0a6f14656b2697eaf520ce4c6",
            "max": 147,
            "min": 0,
            "orientation": "horizontal",
            "style": "IPY_MODEL_b0cf5b8afb28439eac542bbac6c0443b",
            "value": 147
          }
        },
        "457cc5e4762a44ccb48d7bdcae4500f3": {
          "model_module": "@jupyter-widgets/controls",
          "model_name": "HTMLModel",
          "model_module_version": "1.5.0",
          "state": {
            "_dom_classes": [],
            "_model_module": "@jupyter-widgets/controls",
            "_model_module_version": "1.5.0",
            "_model_name": "HTMLModel",
            "_view_count": null,
            "_view_module": "@jupyter-widgets/controls",
            "_view_module_version": "1.5.0",
            "_view_name": "HTMLView",
            "description": "",
            "description_tooltip": null,
            "layout": "IPY_MODEL_663f183b3dd1495d8f3f708847e4c3c6",
            "placeholder": "​",
            "style": "IPY_MODEL_8d625c5a967a43cb82e2e5adec425314",
            "value": " 147/147 [00:00&lt;00:00, 9.53kB/s]"
          }
        },
        "288d0fbd73f942b4834be5a54bcce11f": {
          "model_module": "@jupyter-widgets/base",
          "model_name": "LayoutModel",
          "model_module_version": "1.2.0",
          "state": {
            "_model_module": "@jupyter-widgets/base",
            "_model_module_version": "1.2.0",
            "_model_name": "LayoutModel",
            "_view_count": null,
            "_view_module": "@jupyter-widgets/base",
            "_view_module_version": "1.2.0",
            "_view_name": "LayoutView",
            "align_content": null,
            "align_items": null,
            "align_self": null,
            "border": null,
            "bottom": null,
            "display": null,
            "flex": null,
            "flex_flow": null,
            "grid_area": null,
            "grid_auto_columns": null,
            "grid_auto_flow": null,
            "grid_auto_rows": null,
            "grid_column": null,
            "grid_gap": null,
            "grid_row": null,
            "grid_template_areas": null,
            "grid_template_columns": null,
            "grid_template_rows": null,
            "height": null,
            "justify_content": null,
            "justify_items": null,
            "left": null,
            "margin": null,
            "max_height": null,
            "max_width": null,
            "min_height": null,
            "min_width": null,
            "object_fit": null,
            "object_position": null,
            "order": null,
            "overflow": null,
            "overflow_x": null,
            "overflow_y": null,
            "padding": null,
            "right": null,
            "top": null,
            "visibility": null,
            "width": null
          }
        },
        "85dab3526b0a470c9dc530cf766c149c": {
          "model_module": "@jupyter-widgets/base",
          "model_name": "LayoutModel",
          "model_module_version": "1.2.0",
          "state": {
            "_model_module": "@jupyter-widgets/base",
            "_model_module_version": "1.2.0",
            "_model_name": "LayoutModel",
            "_view_count": null,
            "_view_module": "@jupyter-widgets/base",
            "_view_module_version": "1.2.0",
            "_view_name": "LayoutView",
            "align_content": null,
            "align_items": null,
            "align_self": null,
            "border": null,
            "bottom": null,
            "display": null,
            "flex": null,
            "flex_flow": null,
            "grid_area": null,
            "grid_auto_columns": null,
            "grid_auto_flow": null,
            "grid_auto_rows": null,
            "grid_column": null,
            "grid_gap": null,
            "grid_row": null,
            "grid_template_areas": null,
            "grid_template_columns": null,
            "grid_template_rows": null,
            "height": null,
            "justify_content": null,
            "justify_items": null,
            "left": null,
            "margin": null,
            "max_height": null,
            "max_width": null,
            "min_height": null,
            "min_width": null,
            "object_fit": null,
            "object_position": null,
            "order": null,
            "overflow": null,
            "overflow_x": null,
            "overflow_y": null,
            "padding": null,
            "right": null,
            "top": null,
            "visibility": null,
            "width": null
          }
        },
        "24f4d6bea8444aeca910810360ba19a9": {
          "model_module": "@jupyter-widgets/controls",
          "model_name": "DescriptionStyleModel",
          "model_module_version": "1.5.0",
          "state": {
            "_model_module": "@jupyter-widgets/controls",
            "_model_module_version": "1.5.0",
            "_model_name": "DescriptionStyleModel",
            "_view_count": null,
            "_view_module": "@jupyter-widgets/base",
            "_view_module_version": "1.2.0",
            "_view_name": "StyleView",
            "description_width": ""
          }
        },
        "7a53dfc0a6f14656b2697eaf520ce4c6": {
          "model_module": "@jupyter-widgets/base",
          "model_name": "LayoutModel",
          "model_module_version": "1.2.0",
          "state": {
            "_model_module": "@jupyter-widgets/base",
            "_model_module_version": "1.2.0",
            "_model_name": "LayoutModel",
            "_view_count": null,
            "_view_module": "@jupyter-widgets/base",
            "_view_module_version": "1.2.0",
            "_view_name": "LayoutView",
            "align_content": null,
            "align_items": null,
            "align_self": null,
            "border": null,
            "bottom": null,
            "display": null,
            "flex": null,
            "flex_flow": null,
            "grid_area": null,
            "grid_auto_columns": null,
            "grid_auto_flow": null,
            "grid_auto_rows": null,
            "grid_column": null,
            "grid_gap": null,
            "grid_row": null,
            "grid_template_areas": null,
            "grid_template_columns": null,
            "grid_template_rows": null,
            "height": null,
            "justify_content": null,
            "justify_items": null,
            "left": null,
            "margin": null,
            "max_height": null,
            "max_width": null,
            "min_height": null,
            "min_width": null,
            "object_fit": null,
            "object_position": null,
            "order": null,
            "overflow": null,
            "overflow_x": null,
            "overflow_y": null,
            "padding": null,
            "right": null,
            "top": null,
            "visibility": null,
            "width": null
          }
        },
        "b0cf5b8afb28439eac542bbac6c0443b": {
          "model_module": "@jupyter-widgets/controls",
          "model_name": "ProgressStyleModel",
          "model_module_version": "1.5.0",
          "state": {
            "_model_module": "@jupyter-widgets/controls",
            "_model_module_version": "1.5.0",
            "_model_name": "ProgressStyleModel",
            "_view_count": null,
            "_view_module": "@jupyter-widgets/base",
            "_view_module_version": "1.2.0",
            "_view_name": "StyleView",
            "bar_color": null,
            "description_width": ""
          }
        },
        "663f183b3dd1495d8f3f708847e4c3c6": {
          "model_module": "@jupyter-widgets/base",
          "model_name": "LayoutModel",
          "model_module_version": "1.2.0",
          "state": {
            "_model_module": "@jupyter-widgets/base",
            "_model_module_version": "1.2.0",
            "_model_name": "LayoutModel",
            "_view_count": null,
            "_view_module": "@jupyter-widgets/base",
            "_view_module_version": "1.2.0",
            "_view_name": "LayoutView",
            "align_content": null,
            "align_items": null,
            "align_self": null,
            "border": null,
            "bottom": null,
            "display": null,
            "flex": null,
            "flex_flow": null,
            "grid_area": null,
            "grid_auto_columns": null,
            "grid_auto_flow": null,
            "grid_auto_rows": null,
            "grid_column": null,
            "grid_gap": null,
            "grid_row": null,
            "grid_template_areas": null,
            "grid_template_columns": null,
            "grid_template_rows": null,
            "height": null,
            "justify_content": null,
            "justify_items": null,
            "left": null,
            "margin": null,
            "max_height": null,
            "max_width": null,
            "min_height": null,
            "min_width": null,
            "object_fit": null,
            "object_position": null,
            "order": null,
            "overflow": null,
            "overflow_x": null,
            "overflow_y": null,
            "padding": null,
            "right": null,
            "top": null,
            "visibility": null,
            "width": null
          }
        },
        "8d625c5a967a43cb82e2e5adec425314": {
          "model_module": "@jupyter-widgets/controls",
          "model_name": "DescriptionStyleModel",
          "model_module_version": "1.5.0",
          "state": {
            "_model_module": "@jupyter-widgets/controls",
            "_model_module_version": "1.5.0",
            "_model_name": "DescriptionStyleModel",
            "_view_count": null,
            "_view_module": "@jupyter-widgets/base",
            "_view_module_version": "1.2.0",
            "_view_name": "StyleView",
            "description_width": ""
          }
        },
        "b0030a91642946a0b9153c1dfc36806f": {
          "model_module": "@jupyter-widgets/controls",
          "model_name": "HBoxModel",
          "model_module_version": "1.5.0",
          "state": {
            "_dom_classes": [],
            "_model_module": "@jupyter-widgets/controls",
            "_model_module_version": "1.5.0",
            "_model_name": "HBoxModel",
            "_view_count": null,
            "_view_module": "@jupyter-widgets/controls",
            "_view_module_version": "1.5.0",
            "_view_name": "HBoxView",
            "box_style": "",
            "children": [
              "IPY_MODEL_01376c24cc6242feb2cbb0798f2d4425",
              "IPY_MODEL_da5263d4a8d741acae79d10f36e4a629",
              "IPY_MODEL_a7a2c6666b584a129a5b026050b67ca8"
            ],
            "layout": "IPY_MODEL_fdb43f8dca71423bb24371233f1beb1c"
          }
        },
        "01376c24cc6242feb2cbb0798f2d4425": {
          "model_module": "@jupyter-widgets/controls",
          "model_name": "HTMLModel",
          "model_module_version": "1.5.0",
          "state": {
            "_dom_classes": [],
            "_model_module": "@jupyter-widgets/controls",
            "_model_module_version": "1.5.0",
            "_model_name": "HTMLModel",
            "_view_count": null,
            "_view_module": "@jupyter-widgets/controls",
            "_view_module_version": "1.5.0",
            "_view_name": "HTMLView",
            "description": "",
            "description_tooltip": null,
            "layout": "IPY_MODEL_5596fe94bbca4ca7b6b00cdd04b350d8",
            "placeholder": "​",
            "style": "IPY_MODEL_1c4cdb8f372e4dd0b04605871bccd5b8",
            "value": "Downloading builder script: 100%"
          }
        },
        "da5263d4a8d741acae79d10f36e4a629": {
          "model_module": "@jupyter-widgets/controls",
          "model_name": "FloatProgressModel",
          "model_module_version": "1.5.0",
          "state": {
            "_dom_classes": [],
            "_model_module": "@jupyter-widgets/controls",
            "_model_module_version": "1.5.0",
            "_model_name": "FloatProgressModel",
            "_view_count": null,
            "_view_module": "@jupyter-widgets/controls",
            "_view_module_version": "1.5.0",
            "_view_name": "ProgressView",
            "bar_style": "success",
            "description": "",
            "description_tooltip": null,
            "layout": "IPY_MODEL_76e6b0a8a10e49b7af19ccfd1c1067c1",
            "max": 6270,
            "min": 0,
            "orientation": "horizontal",
            "style": "IPY_MODEL_82a04b0ab7ba4e4fb0e1fc1d484f357d",
            "value": 6270
          }
        },
        "a7a2c6666b584a129a5b026050b67ca8": {
          "model_module": "@jupyter-widgets/controls",
          "model_name": "HTMLModel",
          "model_module_version": "1.5.0",
          "state": {
            "_dom_classes": [],
            "_model_module": "@jupyter-widgets/controls",
            "_model_module_version": "1.5.0",
            "_model_name": "HTMLModel",
            "_view_count": null,
            "_view_module": "@jupyter-widgets/controls",
            "_view_module_version": "1.5.0",
            "_view_name": "HTMLView",
            "description": "",
            "description_tooltip": null,
            "layout": "IPY_MODEL_ca13f1fda6084723a033618c68fd31e8",
            "placeholder": "​",
            "style": "IPY_MODEL_b6df6eee75074aae857d9835e26171ac",
            "value": " 6.27k/6.27k [00:00&lt;00:00, 261kB/s]"
          }
        },
        "fdb43f8dca71423bb24371233f1beb1c": {
          "model_module": "@jupyter-widgets/base",
          "model_name": "LayoutModel",
          "model_module_version": "1.2.0",
          "state": {
            "_model_module": "@jupyter-widgets/base",
            "_model_module_version": "1.2.0",
            "_model_name": "LayoutModel",
            "_view_count": null,
            "_view_module": "@jupyter-widgets/base",
            "_view_module_version": "1.2.0",
            "_view_name": "LayoutView",
            "align_content": null,
            "align_items": null,
            "align_self": null,
            "border": null,
            "bottom": null,
            "display": null,
            "flex": null,
            "flex_flow": null,
            "grid_area": null,
            "grid_auto_columns": null,
            "grid_auto_flow": null,
            "grid_auto_rows": null,
            "grid_column": null,
            "grid_gap": null,
            "grid_row": null,
            "grid_template_areas": null,
            "grid_template_columns": null,
            "grid_template_rows": null,
            "height": null,
            "justify_content": null,
            "justify_items": null,
            "left": null,
            "margin": null,
            "max_height": null,
            "max_width": null,
            "min_height": null,
            "min_width": null,
            "object_fit": null,
            "object_position": null,
            "order": null,
            "overflow": null,
            "overflow_x": null,
            "overflow_y": null,
            "padding": null,
            "right": null,
            "top": null,
            "visibility": null,
            "width": null
          }
        },
        "5596fe94bbca4ca7b6b00cdd04b350d8": {
          "model_module": "@jupyter-widgets/base",
          "model_name": "LayoutModel",
          "model_module_version": "1.2.0",
          "state": {
            "_model_module": "@jupyter-widgets/base",
            "_model_module_version": "1.2.0",
            "_model_name": "LayoutModel",
            "_view_count": null,
            "_view_module": "@jupyter-widgets/base",
            "_view_module_version": "1.2.0",
            "_view_name": "LayoutView",
            "align_content": null,
            "align_items": null,
            "align_self": null,
            "border": null,
            "bottom": null,
            "display": null,
            "flex": null,
            "flex_flow": null,
            "grid_area": null,
            "grid_auto_columns": null,
            "grid_auto_flow": null,
            "grid_auto_rows": null,
            "grid_column": null,
            "grid_gap": null,
            "grid_row": null,
            "grid_template_areas": null,
            "grid_template_columns": null,
            "grid_template_rows": null,
            "height": null,
            "justify_content": null,
            "justify_items": null,
            "left": null,
            "margin": null,
            "max_height": null,
            "max_width": null,
            "min_height": null,
            "min_width": null,
            "object_fit": null,
            "object_position": null,
            "order": null,
            "overflow": null,
            "overflow_x": null,
            "overflow_y": null,
            "padding": null,
            "right": null,
            "top": null,
            "visibility": null,
            "width": null
          }
        },
        "1c4cdb8f372e4dd0b04605871bccd5b8": {
          "model_module": "@jupyter-widgets/controls",
          "model_name": "DescriptionStyleModel",
          "model_module_version": "1.5.0",
          "state": {
            "_model_module": "@jupyter-widgets/controls",
            "_model_module_version": "1.5.0",
            "_model_name": "DescriptionStyleModel",
            "_view_count": null,
            "_view_module": "@jupyter-widgets/base",
            "_view_module_version": "1.2.0",
            "_view_name": "StyleView",
            "description_width": ""
          }
        },
        "76e6b0a8a10e49b7af19ccfd1c1067c1": {
          "model_module": "@jupyter-widgets/base",
          "model_name": "LayoutModel",
          "model_module_version": "1.2.0",
          "state": {
            "_model_module": "@jupyter-widgets/base",
            "_model_module_version": "1.2.0",
            "_model_name": "LayoutModel",
            "_view_count": null,
            "_view_module": "@jupyter-widgets/base",
            "_view_module_version": "1.2.0",
            "_view_name": "LayoutView",
            "align_content": null,
            "align_items": null,
            "align_self": null,
            "border": null,
            "bottom": null,
            "display": null,
            "flex": null,
            "flex_flow": null,
            "grid_area": null,
            "grid_auto_columns": null,
            "grid_auto_flow": null,
            "grid_auto_rows": null,
            "grid_column": null,
            "grid_gap": null,
            "grid_row": null,
            "grid_template_areas": null,
            "grid_template_columns": null,
            "grid_template_rows": null,
            "height": null,
            "justify_content": null,
            "justify_items": null,
            "left": null,
            "margin": null,
            "max_height": null,
            "max_width": null,
            "min_height": null,
            "min_width": null,
            "object_fit": null,
            "object_position": null,
            "order": null,
            "overflow": null,
            "overflow_x": null,
            "overflow_y": null,
            "padding": null,
            "right": null,
            "top": null,
            "visibility": null,
            "width": null
          }
        },
        "82a04b0ab7ba4e4fb0e1fc1d484f357d": {
          "model_module": "@jupyter-widgets/controls",
          "model_name": "ProgressStyleModel",
          "model_module_version": "1.5.0",
          "state": {
            "_model_module": "@jupyter-widgets/controls",
            "_model_module_version": "1.5.0",
            "_model_name": "ProgressStyleModel",
            "_view_count": null,
            "_view_module": "@jupyter-widgets/base",
            "_view_module_version": "1.2.0",
            "_view_name": "StyleView",
            "bar_color": null,
            "description_width": ""
          }
        },
        "ca13f1fda6084723a033618c68fd31e8": {
          "model_module": "@jupyter-widgets/base",
          "model_name": "LayoutModel",
          "model_module_version": "1.2.0",
          "state": {
            "_model_module": "@jupyter-widgets/base",
            "_model_module_version": "1.2.0",
            "_model_name": "LayoutModel",
            "_view_count": null,
            "_view_module": "@jupyter-widgets/base",
            "_view_module_version": "1.2.0",
            "_view_name": "LayoutView",
            "align_content": null,
            "align_items": null,
            "align_self": null,
            "border": null,
            "bottom": null,
            "display": null,
            "flex": null,
            "flex_flow": null,
            "grid_area": null,
            "grid_auto_columns": null,
            "grid_auto_flow": null,
            "grid_auto_rows": null,
            "grid_column": null,
            "grid_gap": null,
            "grid_row": null,
            "grid_template_areas": null,
            "grid_template_columns": null,
            "grid_template_rows": null,
            "height": null,
            "justify_content": null,
            "justify_items": null,
            "left": null,
            "margin": null,
            "max_height": null,
            "max_width": null,
            "min_height": null,
            "min_width": null,
            "object_fit": null,
            "object_position": null,
            "order": null,
            "overflow": null,
            "overflow_x": null,
            "overflow_y": null,
            "padding": null,
            "right": null,
            "top": null,
            "visibility": null,
            "width": null
          }
        },
        "b6df6eee75074aae857d9835e26171ac": {
          "model_module": "@jupyter-widgets/controls",
          "model_name": "DescriptionStyleModel",
          "model_module_version": "1.5.0",
          "state": {
            "_model_module": "@jupyter-widgets/controls",
            "_model_module_version": "1.5.0",
            "_model_name": "DescriptionStyleModel",
            "_view_count": null,
            "_view_module": "@jupyter-widgets/base",
            "_view_module_version": "1.2.0",
            "_view_name": "StyleView",
            "description_width": ""
          }
        }
      }
    }
  },
  "cells": [
    {
      "cell_type": "markdown",
      "source": [
        "# **INSTALLATIONS**"
      ],
      "metadata": {
        "id": "zs5jd7hFeMd8"
      }
    },
    {
      "cell_type": "code",
      "execution_count": 34,
      "metadata": {
        "colab": {
          "base_uri": "https://localhost:8080/"
        },
        "id": "44EWSk84b4bA",
        "outputId": "631de715-abc9-4441-dc2c-08e1fdf03463"
      },
      "outputs": [
        {
          "output_type": "stream",
          "name": "stdout",
          "text": [
            "Requirement already satisfied: evaluate in /usr/local/lib/python3.10/dist-packages (0.4.2)\n",
            "Requirement already satisfied: rouge_score in /usr/local/lib/python3.10/dist-packages (0.1.2)\n",
            "Requirement already satisfied: datasets>=2.0.0 in /usr/local/lib/python3.10/dist-packages (from evaluate) (2.19.0)\n",
            "Requirement already satisfied: numpy>=1.17 in /usr/local/lib/python3.10/dist-packages (from evaluate) (1.25.2)\n",
            "Requirement already satisfied: dill in /usr/local/lib/python3.10/dist-packages (from evaluate) (0.3.8)\n",
            "Requirement already satisfied: pandas in /usr/local/lib/python3.10/dist-packages (from evaluate) (2.0.3)\n",
            "Requirement already satisfied: requests>=2.19.0 in /usr/local/lib/python3.10/dist-packages (from evaluate) (2.31.0)\n",
            "Requirement already satisfied: tqdm>=4.62.1 in /usr/local/lib/python3.10/dist-packages (from evaluate) (4.66.2)\n",
            "Requirement already satisfied: xxhash in /usr/local/lib/python3.10/dist-packages (from evaluate) (3.4.1)\n",
            "Requirement already satisfied: multiprocess in /usr/local/lib/python3.10/dist-packages (from evaluate) (0.70.16)\n",
            "Requirement already satisfied: fsspec[http]>=2021.05.0 in /usr/local/lib/python3.10/dist-packages (from evaluate) (2023.6.0)\n",
            "Requirement already satisfied: huggingface-hub>=0.7.0 in /usr/local/lib/python3.10/dist-packages (from evaluate) (0.23.0)\n",
            "Requirement already satisfied: packaging in /usr/local/lib/python3.10/dist-packages (from evaluate) (24.0)\n",
            "Requirement already satisfied: absl-py in /usr/local/lib/python3.10/dist-packages (from rouge_score) (1.4.0)\n",
            "Requirement already satisfied: nltk in /usr/local/lib/python3.10/dist-packages (from rouge_score) (3.8.1)\n",
            "Requirement already satisfied: six>=1.14.0 in /usr/local/lib/python3.10/dist-packages (from rouge_score) (1.16.0)\n",
            "Requirement already satisfied: filelock in /usr/local/lib/python3.10/dist-packages (from datasets>=2.0.0->evaluate) (3.14.0)\n",
            "Requirement already satisfied: pyarrow>=12.0.0 in /usr/local/lib/python3.10/dist-packages (from datasets>=2.0.0->evaluate) (14.0.2)\n",
            "Requirement already satisfied: pyarrow-hotfix in /usr/local/lib/python3.10/dist-packages (from datasets>=2.0.0->evaluate) (0.6)\n",
            "Requirement already satisfied: aiohttp in /usr/local/lib/python3.10/dist-packages (from datasets>=2.0.0->evaluate) (3.9.5)\n",
            "Requirement already satisfied: pyyaml>=5.1 in /usr/local/lib/python3.10/dist-packages (from datasets>=2.0.0->evaluate) (6.0.1)\n",
            "Requirement already satisfied: typing-extensions>=3.7.4.3 in /usr/local/lib/python3.10/dist-packages (from huggingface-hub>=0.7.0->evaluate) (4.11.0)\n",
            "Requirement already satisfied: charset-normalizer<4,>=2 in /usr/local/lib/python3.10/dist-packages (from requests>=2.19.0->evaluate) (3.3.2)\n",
            "Requirement already satisfied: idna<4,>=2.5 in /usr/local/lib/python3.10/dist-packages (from requests>=2.19.0->evaluate) (3.7)\n",
            "Requirement already satisfied: urllib3<3,>=1.21.1 in /usr/local/lib/python3.10/dist-packages (from requests>=2.19.0->evaluate) (2.0.7)\n",
            "Requirement already satisfied: certifi>=2017.4.17 in /usr/local/lib/python3.10/dist-packages (from requests>=2.19.0->evaluate) (2024.2.2)\n",
            "Requirement already satisfied: click in /usr/local/lib/python3.10/dist-packages (from nltk->rouge_score) (8.1.7)\n",
            "Requirement already satisfied: joblib in /usr/local/lib/python3.10/dist-packages (from nltk->rouge_score) (1.4.0)\n",
            "Requirement already satisfied: regex>=2021.8.3 in /usr/local/lib/python3.10/dist-packages (from nltk->rouge_score) (2023.12.25)\n",
            "Requirement already satisfied: python-dateutil>=2.8.2 in /usr/local/lib/python3.10/dist-packages (from pandas->evaluate) (2.8.2)\n",
            "Requirement already satisfied: pytz>=2020.1 in /usr/local/lib/python3.10/dist-packages (from pandas->evaluate) (2023.4)\n",
            "Requirement already satisfied: tzdata>=2022.1 in /usr/local/lib/python3.10/dist-packages (from pandas->evaluate) (2024.1)\n",
            "Requirement already satisfied: aiosignal>=1.1.2 in /usr/local/lib/python3.10/dist-packages (from aiohttp->datasets>=2.0.0->evaluate) (1.3.1)\n",
            "Requirement already satisfied: attrs>=17.3.0 in /usr/local/lib/python3.10/dist-packages (from aiohttp->datasets>=2.0.0->evaluate) (23.2.0)\n",
            "Requirement already satisfied: frozenlist>=1.1.1 in /usr/local/lib/python3.10/dist-packages (from aiohttp->datasets>=2.0.0->evaluate) (1.4.1)\n",
            "Requirement already satisfied: multidict<7.0,>=4.5 in /usr/local/lib/python3.10/dist-packages (from aiohttp->datasets>=2.0.0->evaluate) (6.0.5)\n",
            "Requirement already satisfied: yarl<2.0,>=1.0 in /usr/local/lib/python3.10/dist-packages (from aiohttp->datasets>=2.0.0->evaluate) (1.9.4)\n",
            "Requirement already satisfied: async-timeout<5.0,>=4.0 in /usr/local/lib/python3.10/dist-packages (from aiohttp->datasets>=2.0.0->evaluate) (4.0.3)\n"
          ]
        }
      ],
      "source": [
        "! pip install -q transformers[torch] datasets\n",
        "!pip install evaluate rouge_score"
      ]
    },
    {
      "cell_type": "code",
      "source": [
        "from google.colab import drive\n",
        "drive.mount(\"/content/drive/\")"
      ],
      "metadata": {
        "colab": {
          "base_uri": "https://localhost:8080/"
        },
        "id": "8jiopigBb-3m",
        "outputId": "d8bec37e-0119-4325-af3e-6e4637ba5046"
      },
      "execution_count": 2,
      "outputs": [
        {
          "output_type": "stream",
          "name": "stdout",
          "text": [
            "Mounted at /content/drive/\n"
          ]
        }
      ]
    },
    {
      "cell_type": "code",
      "source": [
        "from transformers import T5Tokenizer, T5ForConditionalGeneration, Trainer, TrainingArguments\n",
        "from datasets import load_dataset\n",
        "from sklearn.model_selection import train_test_split\n",
        "import pandas as pd\n",
        "from datasets import Dataset\n",
        "from datasets import DatasetDict\n",
        "from transformers import DataCollatorForSeq2Seq\n",
        "from transformers import AutoModelForSeq2SeqLM, Seq2SeqTrainingArguments, Seq2SeqTrainer\n",
        "from transformers import AutoTokenizer"
      ],
      "metadata": {
        "id": "2F5T8bhXcjRd"
      },
      "execution_count": 3,
      "outputs": []
    },
    {
      "cell_type": "markdown",
      "source": [
        "# **LOADING DATASET**"
      ],
      "metadata": {
        "id": "D8hgLkbzeD9M"
      }
    },
    {
      "cell_type": "code",
      "source": [
        "dataset = load_dataset('csv', data_files={'data': '/content/drive/MyDrive/clinical-reports-summarizer-dataset.csv'})"
      ],
      "metadata": {
        "id": "6s2fwxx2eSUh",
        "colab": {
          "base_uri": "https://localhost:8080/",
          "height": 49,
          "referenced_widgets": [
            "fc22bc12ccb74678a964dbdfda229e94",
            "26e341f4db50422f82c44a5bd581be99",
            "733543e1f398410cb8d4a8cd3275e211",
            "9b0cf69ad3e94ef199878399ba16c9f5",
            "5ef3413606c94982a74537411b4a1f28",
            "71d15b6ef66e4898aee2538809a15298",
            "5aa3c9d646a14d6c93bac40847d0b627",
            "37ae5b555f60464681ac384b0cd8aacf",
            "28ff7c23e52444658bbfd701fdff1c46",
            "6a34ec75aa0f405f9c19e5943553ba83",
            "6a21ad77fd8c4be69848f979dbb3b1c3"
          ]
        },
        "outputId": "02a5c263-ad6c-4716-dea0-77fd656e90a0"
      },
      "execution_count": 4,
      "outputs": [
        {
          "output_type": "display_data",
          "data": {
            "text/plain": [
              "Generating data split: 0 examples [00:00, ? examples/s]"
            ],
            "application/vnd.jupyter.widget-view+json": {
              "version_major": 2,
              "version_minor": 0,
              "model_id": "fc22bc12ccb74678a964dbdfda229e94"
            }
          },
          "metadata": {}
        }
      ]
    },
    {
      "cell_type": "code",
      "source": [
        "train_data, val_data = train_test_split(dataset['data'], test_size=0.2, random_state=42)"
      ],
      "metadata": {
        "id": "QVnzaOUwed_6"
      },
      "execution_count": 5,
      "outputs": []
    },
    {
      "cell_type": "code",
      "source": [
        "dataset"
      ],
      "metadata": {
        "colab": {
          "base_uri": "https://localhost:8080/"
        },
        "id": "5Dw5L1mEfSsQ",
        "outputId": "2f591d4b-7117-4192-a7ec-a12366e37fb6"
      },
      "execution_count": 6,
      "outputs": [
        {
          "output_type": "execute_result",
          "data": {
            "text/plain": [
              "DatasetDict({\n",
              "    data: Dataset({\n",
              "        features: ['TEXT', 'SUMMARY'],\n",
              "        num_rows: 1074\n",
              "    })\n",
              "})"
            ]
          },
          "metadata": {},
          "execution_count": 6
        }
      ]
    },
    {
      "cell_type": "code",
      "source": [
        "type(train_data)"
      ],
      "metadata": {
        "colab": {
          "base_uri": "https://localhost:8080/"
        },
        "id": "lKOrn4uRiW3m",
        "outputId": "ca4ac7dd-df4e-43cd-e61e-559b01cff0db"
      },
      "execution_count": 7,
      "outputs": [
        {
          "output_type": "execute_result",
          "data": {
            "text/plain": [
              "dict"
            ]
          },
          "metadata": {},
          "execution_count": 7
        }
      ]
    },
    {
      "cell_type": "code",
      "source": [
        "train_data = pd.DataFrame(train_data)\n",
        "val_data = pd.DataFrame(val_data)"
      ],
      "metadata": {
        "id": "wH6Jj8p0jr2n"
      },
      "execution_count": 8,
      "outputs": []
    },
    {
      "cell_type": "code",
      "source": [
        "train_dataset = Dataset.from_pandas(train_data)\n",
        "val_dataset = Dataset.from_pandas(val_data)"
      ],
      "metadata": {
        "id": "LEkawdW0jiHO"
      },
      "execution_count": 9,
      "outputs": []
    },
    {
      "cell_type": "code",
      "source": [
        "dataset = DatasetDict({\n",
        "    'train': train_dataset,\n",
        "    'test': val_dataset\n",
        "})"
      ],
      "metadata": {
        "id": "zYTBoH11kDDW"
      },
      "execution_count": 10,
      "outputs": []
    },
    {
      "cell_type": "code",
      "source": [
        "dataset"
      ],
      "metadata": {
        "colab": {
          "base_uri": "https://localhost:8080/"
        },
        "id": "7keW_cWgkGPI",
        "outputId": "3589d9a4-6c6f-4de4-fb85-8e4ba82f8642"
      },
      "execution_count": 11,
      "outputs": [
        {
          "output_type": "execute_result",
          "data": {
            "text/plain": [
              "DatasetDict({\n",
              "    train: Dataset({\n",
              "        features: ['TEXT', 'SUMMARY'],\n",
              "        num_rows: 859\n",
              "    })\n",
              "    test: Dataset({\n",
              "        features: ['TEXT', 'SUMMARY'],\n",
              "        num_rows: 215\n",
              "    })\n",
              "})"
            ]
          },
          "metadata": {},
          "execution_count": 11
        }
      ]
    },
    {
      "cell_type": "code",
      "source": [
        "example = dataset[\"train\"][0]\n",
        "for key in example:\n",
        "    print(\"KEY: \\\"{}\\\"\".format(key))\n",
        "    print(\"VAL corresponding to the key-\\\"{}\\\"\\n \\\"{}\\\"\".format(key, example[key]))\n",
        "    print(\"\\n\")"
      ],
      "metadata": {
        "colab": {
          "base_uri": "https://localhost:8080/"
        },
        "id": "XhgYxIJQkIrb",
        "outputId": "227ad03c-10ad-42e1-b21c-4f840e640ede"
      },
      "execution_count": 12,
      "outputs": [
        {
          "output_type": "stream",
          "name": "stdout",
          "text": [
            "KEY: \"TEXT\"\n",
            "VAL corresponding to the key-\"TEXT\"\n",
            " \"Clinical History/Diagnosis: Left lung CA. Source of Specimen(s). A: Portion of 6th rib. B: Lymph Node, level 9. C: Lymph Node, level 11. D: Left lung. E: Lymph Node, level 5. F: Lymph Node, level 7. Gross Description: The specimen is received in six parts. Source of Tissue: 1. Labeled \"portion 6th rib\". Gross Description: Received fresh and consists of a segment of rib. measuring 2 x 1.4 X 1cm. No gross suspicious lesions are found. It is. submitted entirely in 1A following decalcification. Designation of Sections: 1A. Summary of Sections: @. Source of Tissue: 2. Labeled \"level 9 lymph node\". Gross Description: Received fresh and consists of a single grayish-black. lymph node measuring 0.9 x 0.7 x 0.7cm. It is submitted entirely in 2A. Designation of Sections: 2A. Summary of Sections: @. Source of Tissue: 3. Labeled \"level 11 lymph node\". Gross Description: Received fresh and consists of an irregular, ragged. fragment of black tissue measuring 1.5 x 1 x 0.7cm. It is submitted intoto in 3A. Designation of Sections: 3A. Summary of Sections: @. Source of Tissue: 4. Labeled \"left lung (left upper lobe)\". Frozen Section Diagnosis: 4FS HISTOLOGICALLY NEGATIVE MARGIN, BUT. GROSSLY ONLY BY 3-4MM, PER. Gross Description: The specimen is received fresh and consists of a 235. gram left upper lobe measuring 18 x 11 x 6.5cm. The bronchial margin is. procured for frozen section consultation and submitted in 4FSA. The bronchial tree is opened to reveal lesional tissue approximately 0.2. 0.3cm from the margin (4C). Elsewhere, vascular margins are unremarkable. and the hilum contains a few black, anthracotic nodes. Sections show. multiple potential peribronchial nodes with metastatic (4D-4E). Laterally, there is a large area of pleural puckering up to 3cm and. sections show a large 7 x 6 x 5cm tumor comprising approximately 40% of. the left upper lobe. Centrally, the tumor has some black discoloration is. necrotic, however, towards the periphery there is more grossly viable. tumor. Sections through the remaining parenchyma show pink, spongy lung tissue. with black, anthracotic pigmentation. No other suspicious lesions or. masses are found. Designation of Sections: 4FSA bronchial margin, 4A vascular margin, 4B. hilar nodes, 4C section approximately 5cm from bronchial margin, 4D-4E. additional section hilum, possible peribronchial lymph nodes, 4F-4G. tumor, 4H tumor in relationship to left pleura, 4I uninvolved lung. tissue. Summary of Sections: Representative section 4FSA, 4A 4I. Source of Tissue: 5. Labeled \"level 5 lymph node\". Gross Description: The specimen is received fresh and consists of two. gray-black node fragments measuring 0.3 and 0.5cm. and consists of fat. It is submitted in 5A. Designation of Sections: 5A. Summary of Sections: @. Source of Tissue: 6. Labeled \"Level 7 lymph node\". Gross Description: Received fresh the specimen consists of a single,. ovoid, black lymph node measuring 0.9 X 0.9 x 0.6cm and submitted in totoin 6A. Designation of Sections: 6A. Summary of Sections: @. Final Diagnosis: 1. Portion of 6th rib, excision: - Bone marrow elements. No tumor seen. 2. Lymph nodes, level 9, excision: - No tumor seen in one lymph node (0/1). 3. Lymph node, level 11, excision: - No tumor seen in one lymph node (0/1). 4. Left lung, upper lobe, lobectomy: - Poorly differentiated squamous cell carcinoma (7 cm), with. neuroendocrine features, see note. - Negative bronchial and vascular margins. - Negative pleura. - No tumor seen in six hilar lymph nodes. 5. Lymph nodes, level 5, excision: - No tumor seen in two lymph nodes (0/2). 6. Lymph node, level 7, excision: - No tumor seen in one lymph node (0/1). Note: Immunohistochemical stains show that the tumor is negative for. chromogranin and synaptophysin and focally positive for CD56.\"\n",
            "\n",
            "\n",
            "KEY: \"SUMMARY\"\n",
            "VAL corresponding to the key-\"SUMMARY\"\n",
            " \"Patient underwent surgery for lung cancer. Tissue samples included portions of rib, lymph nodes, and left upper lung. Examination of the rib showed no signs of cancer. One lymph node from level 9 also showed no cancer. The lymph node from level 11 contained a fragment of black tissue, but cancer was not identified. Examination of the left upper lung revealed a 7-centimeter poorly differentiated squamous cell carcinoma with neuroendocrine features. Margins around the lung and blood vessels were clear of cancer, as was the pleura. Six lymph nodes from the hilum also showed no cancer. Two lymph nodes from level 5 and one from level 7 were also cancer-free.\"\n",
            "\n",
            "\n"
          ]
        }
      ]
    },
    {
      "cell_type": "markdown",
      "source": [
        "# **TOKENIZATION AND FINETUNING**"
      ],
      "metadata": {
        "id": "KFBSLachkuK-"
      }
    },
    {
      "cell_type": "code",
      "source": [
        "tokenizer = AutoTokenizer.from_pretrained(\"t5-small\")"
      ],
      "metadata": {
        "colab": {
          "base_uri": "https://localhost:8080/",
          "height": 272,
          "referenced_widgets": [
            "670103910b85464c849687d8ba5c23a6",
            "fba5079c3bec4cdcba65d76f0ab0035f",
            "36312c369f874762a1cb5d4e0b0ebea3",
            "524d5d6106324a96ba587a301de178fd",
            "1bf21b07558f4f70bf50061791d23981",
            "0cbd5cd27232415899e76a5dc2c66f35",
            "a3e19d37ed2846d8a84ab792986a6498",
            "1d2f42b5bde74169826f7ddcdba2b6a7",
            "8e78c295c90f4eca91eeb4e5afc72408",
            "cc440ea082ea4214a56d3584ee614c4f",
            "53943362a194472381659c474cad2484",
            "01db537e979e47d68787d1d52b736c44",
            "e86ff231628c461d92a1e6e9175314ac",
            "a49ddae3a0d242808f7ce95ed99bc805",
            "3c006c8af1694783865067a543f946c6",
            "e060c6e1bfb24308aa294bd4903c9f19",
            "f5d607f0fc57429ab29536d20162e5a5",
            "4d070a47119040778d093928c4ef6f20",
            "594e992f723d4b17a9d649005fa45551",
            "fb932ab1153f4e0686ca350e8e9ad582",
            "21e3904bb2ab42678caff0c7d755e4a4",
            "73337d4efc344d2da6fafd15f7258134",
            "e955307b3b294219919215d5714b688f",
            "f4aa96a8ab51412c8b276b4c5ba6eef5",
            "b8a854834ffa49b78bae2f3c16819da0",
            "2a94e5e30f574199b382854e810cc5fe",
            "e3015122ce074ae095854fb7c8e8b718",
            "af7787d14cc74ef895f2e0f47d32a19c",
            "24df190a9796415184c82ce915be0770",
            "98356457f9bb46d4a6a6da882a840d92",
            "8ca65022e73540ddbb328c67dca58bdd",
            "b141dc65dcc54d468367e4a961cec0fc",
            "85ae45477fce436da4bd5d58b2d053cc"
          ]
        },
        "id": "tyZwrHt1k2s3",
        "outputId": "10f53456-4343-425f-9a05-7f0a18442e63"
      },
      "execution_count": 13,
      "outputs": [
        {
          "output_type": "stream",
          "name": "stderr",
          "text": [
            "/usr/local/lib/python3.10/dist-packages/huggingface_hub/file_download.py:1132: FutureWarning: `resume_download` is deprecated and will be removed in version 1.0.0. Downloads always resume when possible. If you want to force a new download, use `force_download=True`.\n",
            "  warnings.warn(\n",
            "/usr/local/lib/python3.10/dist-packages/huggingface_hub/utils/_token.py:89: UserWarning: \n",
            "The secret `HF_TOKEN` does not exist in your Colab secrets.\n",
            "To authenticate with the Hugging Face Hub, create a token in your settings tab (https://huggingface.co/settings/tokens), set it as secret in your Google Colab and restart your session.\n",
            "You will be able to reuse this secret in all of your notebooks.\n",
            "Please note that authentication is recommended but still optional to access public models or datasets.\n",
            "  warnings.warn(\n"
          ]
        },
        {
          "output_type": "display_data",
          "data": {
            "text/plain": [
              "tokenizer_config.json:   0%|          | 0.00/2.32k [00:00<?, ?B/s]"
            ],
            "application/vnd.jupyter.widget-view+json": {
              "version_major": 2,
              "version_minor": 0,
              "model_id": "670103910b85464c849687d8ba5c23a6"
            }
          },
          "metadata": {}
        },
        {
          "output_type": "display_data",
          "data": {
            "text/plain": [
              "spiece.model:   0%|          | 0.00/792k [00:00<?, ?B/s]"
            ],
            "application/vnd.jupyter.widget-view+json": {
              "version_major": 2,
              "version_minor": 0,
              "model_id": "01db537e979e47d68787d1d52b736c44"
            }
          },
          "metadata": {}
        },
        {
          "output_type": "display_data",
          "data": {
            "text/plain": [
              "tokenizer.json:   0%|          | 0.00/1.39M [00:00<?, ?B/s]"
            ],
            "application/vnd.jupyter.widget-view+json": {
              "version_major": 2,
              "version_minor": 0,
              "model_id": "e955307b3b294219919215d5714b688f"
            }
          },
          "metadata": {}
        }
      ]
    },
    {
      "cell_type": "code",
      "source": [
        "print(example)"
      ],
      "metadata": {
        "colab": {
          "base_uri": "https://localhost:8080/"
        },
        "id": "-JqqON6-k4QP",
        "outputId": "a8b852d6-5b0a-4d5b-b7d6-e93735563331"
      },
      "execution_count": 14,
      "outputs": [
        {
          "output_type": "stream",
          "name": "stdout",
          "text": [
            "{'TEXT': 'Clinical History/Diagnosis: Left lung CA. Source of Specimen(s). A: Portion of 6th rib. B: Lymph Node, level 9. C: Lymph Node, level 11. D: Left lung. E: Lymph Node, level 5. F: Lymph Node, level 7. Gross Description: The specimen is received in six parts. Source of Tissue: 1. Labeled \"portion 6th rib\". Gross Description: Received fresh and consists of a segment of rib. measuring 2 x 1.4 X 1cm. No gross suspicious lesions are found. It is. submitted entirely in 1A following decalcification. Designation of Sections: 1A. Summary of Sections: @. Source of Tissue: 2. Labeled \"level 9 lymph node\". Gross Description: Received fresh and consists of a single grayish-black. lymph node measuring 0.9 x 0.7 x 0.7cm. It is submitted entirely in 2A. Designation of Sections: 2A. Summary of Sections: @. Source of Tissue: 3. Labeled \"level 11 lymph node\". Gross Description: Received fresh and consists of an irregular, ragged. fragment of black tissue measuring 1.5 x 1 x 0.7cm. It is submitted intoto in 3A. Designation of Sections: 3A. Summary of Sections: @. Source of Tissue: 4. Labeled \"left lung (left upper lobe)\". Frozen Section Diagnosis: 4FS HISTOLOGICALLY NEGATIVE MARGIN, BUT. GROSSLY ONLY BY 3-4MM, PER. Gross Description: The specimen is received fresh and consists of a 235. gram left upper lobe measuring 18 x 11 x 6.5cm. The bronchial margin is. procured for frozen section consultation and submitted in 4FSA. The bronchial tree is opened to reveal lesional tissue approximately 0.2. 0.3cm from the margin (4C). Elsewhere, vascular margins are unremarkable. and the hilum contains a few black, anthracotic nodes. Sections show. multiple potential peribronchial nodes with metastatic (4D-4E). Laterally, there is a large area of pleural puckering up to 3cm and. sections show a large 7 x 6 x 5cm tumor comprising approximately 40% of. the left upper lobe. Centrally, the tumor has some black discoloration is. necrotic, however, towards the periphery there is more grossly viable. tumor. Sections through the remaining parenchyma show pink, spongy lung tissue. with black, anthracotic pigmentation. No other suspicious lesions or. masses are found. Designation of Sections: 4FSA bronchial margin, 4A vascular margin, 4B. hilar nodes, 4C section approximately 5cm from bronchial margin, 4D-4E. additional section hilum, possible peribronchial lymph nodes, 4F-4G. tumor, 4H tumor in relationship to left pleura, 4I uninvolved lung. tissue. Summary of Sections: Representative section 4FSA, 4A 4I. Source of Tissue: 5. Labeled \"level 5 lymph node\". Gross Description: The specimen is received fresh and consists of two. gray-black node fragments measuring 0.3 and 0.5cm. and consists of fat. It is submitted in 5A. Designation of Sections: 5A. Summary of Sections: @. Source of Tissue: 6. Labeled \"Level 7 lymph node\". Gross Description: Received fresh the specimen consists of a single,. ovoid, black lymph node measuring 0.9 X 0.9 x 0.6cm and submitted in totoin 6A. Designation of Sections: 6A. Summary of Sections: @. Final Diagnosis: 1. Portion of 6th rib, excision: - Bone marrow elements. No tumor seen. 2. Lymph nodes, level 9, excision: - No tumor seen in one lymph node (0/1). 3. Lymph node, level 11, excision: - No tumor seen in one lymph node (0/1). 4. Left lung, upper lobe, lobectomy: - Poorly differentiated squamous cell carcinoma (7 cm), with. neuroendocrine features, see note. - Negative bronchial and vascular margins. - Negative pleura. - No tumor seen in six hilar lymph nodes. 5. Lymph nodes, level 5, excision: - No tumor seen in two lymph nodes (0/2). 6. Lymph node, level 7, excision: - No tumor seen in one lymph node (0/1). Note: Immunohistochemical stains show that the tumor is negative for. chromogranin and synaptophysin and focally positive for CD56.', 'SUMMARY': 'Patient underwent surgery for lung cancer. Tissue samples included portions of rib, lymph nodes, and left upper lung. Examination of the rib showed no signs of cancer. One lymph node from level 9 also showed no cancer. The lymph node from level 11 contained a fragment of black tissue, but cancer was not identified. Examination of the left upper lung revealed a 7-centimeter poorly differentiated squamous cell carcinoma with neuroendocrine features. Margins around the lung and blood vessels were clear of cancer, as was the pleura. Six lymph nodes from the hilum also showed no cancer. Two lymph nodes from level 5 and one from level 7 were also cancer-free.'}\n"
          ]
        }
      ]
    },
    {
      "cell_type": "code",
      "source": [
        "tokenized_text = tokenizer(example['TEXT'])\n",
        "for key in tokenized_text:\n",
        "    print(key)\n",
        "    print(tokenized_text[key])"
      ],
      "metadata": {
        "colab": {
          "base_uri": "https://localhost:8080/"
        },
        "id": "WPUzMrimk6rY",
        "outputId": "03f9f813-9a15-4c63-929f-a54c614ef356"
      },
      "execution_count": 15,
      "outputs": [
        {
          "output_type": "stream",
          "name": "stderr",
          "text": [
            "Token indices sequence length is longer than the specified maximum sequence length for this model (1143 > 512). Running this sequence through the model will result in indexing errors\n"
          ]
        },
        {
          "output_type": "stream",
          "name": "stdout",
          "text": [
            "input_ids\n",
            "[14067, 5528, 87, 23770, 6715, 7, 159, 10, 14298, 5084, 3087, 5, 9149, 13, 3, 7727, 23, 904, 599, 7, 137, 71, 10, 9731, 1575, 13, 431, 189, 3, 6520, 5, 272, 10, 5225, 7656, 465, 221, 6, 593, 5835, 205, 10, 5225, 7656, 465, 221, 6, 593, 7806, 309, 10, 14298, 5084, 5, 262, 10, 5225, 7656, 465, 221, 6, 593, 3594, 377, 10, 5225, 7656, 465, 221, 6, 593, 4306, 17969, 7726, 10, 37, 19622, 19, 1204, 16, 1296, 1467, 5, 9149, 13, 332, 13159, 10, 1300, 16229, 15, 26, 96, 31656, 431, 189, 3, 6520, 1280, 17969, 7726, 10, 24083, 26, 1434, 11, 3, 6848, 13, 3, 9, 5508, 13, 3, 6520, 5, 11297, 204, 3, 226, 3, 14912, 3, 4, 209, 75, 51, 5, 465, 8690, 21641, 110, 2865, 33, 435, 5, 94, 19, 5, 5776, 4585, 16, 209, 188, 826, 20, 10379, 2420, 5, 1642, 257, 13, 5568, 7, 10, 209, 188, 5, 20698, 13, 5568, 7, 10, 3320, 5, 9149, 13, 332, 13159, 10, 1682, 16229, 15, 26, 96, 4563, 668, 25049, 150, 221, 1280, 17969, 7726, 10, 24083, 26, 1434, 11, 3, 6848, 13, 3, 9, 712, 9954, 1273, 18, 19699, 5, 25049, 150, 221, 11297, 3, 23758, 3, 226, 3, 22426, 3, 226, 3, 22426, 75, 51, 5, 94, 19, 5776, 4585, 16, 204, 188, 5, 1642, 257, 13, 5568, 7, 10, 204, 188, 5, 20698, 13, 5568, 7, 10, 3320, 5, 9149, 13, 332, 13159, 10, 1877, 16229, 15, 26, 96, 4563, 850, 25049, 150, 221, 1280, 17969, 7726, 10, 24083, 26, 1434, 11, 3, 6848, 13, 46, 22085, 6, 3, 28581, 5, 12071, 13, 1001, 6316, 11297, 8613, 3, 226, 209, 3, 226, 3, 22426, 75, 51, 5, 94, 19, 5776, 139, 235, 16, 220, 188, 5, 1642, 257, 13, 5568, 7, 10, 220, 188, 5, 20698, 13, 5568, 7, 10, 3320, 5, 9149, 13, 332, 13159, 10, 2853, 16229, 15, 26, 96, 17068, 5084, 41, 17068, 4548, 3, 11846, 15, 61, 1280, 377, 9860, 35, 5568, 5267, 6715, 7, 159, 10, 314, 7674, 454, 13582, 667, 20151, 23936, 5121, 445, 8579, 5767, 8087, 3, 13845, 24961, 6, 19936, 5, 3, 8727, 19406, 5121, 20728, 272, 476, 220, 4278, 8257, 6, 3, 8742, 5, 17969, 7726, 10, 37, 19622, 19, 1204, 1434, 11, 3, 6848, 13, 3, 9, 3, 25174, 5, 3, 5096, 646, 4548, 3, 11846, 15, 11297, 507, 3, 226, 850, 3, 226, 3, 17255, 75, 51, 5, 37, 3, 13711, 1436, 138, 6346, 19, 5, 11892, 15, 26, 21, 10451, 1375, 4577, 11, 5776, 16, 314, 7674, 188, 5, 37, 3, 13711, 1436, 138, 2195, 19, 2946, 12, 6731, 110, 6318, 6316, 3241, 3, 18189, 5, 3, 19997, 75, 51, 45, 8, 6346, 8457, 254, 137, 1289, 7, 15, 8352, 6, 3, 15100, 6346, 7, 33, 73, 60, 3920, 179, 5, 11, 8, 7102, 5171, 2579, 3, 9, 360, 1001, 6, 46, 189, 3738, 9798, 150, 1395, 5, 5568, 7, 504, 5, 1317, 1055, 3, 4267, 13711, 1436, 138, 150, 1395, 28, 10531, 15165, 8457, 308, 4278, 427, 137, 10511, 1427, 6, 132, 19, 3, 9, 508, 616, 13, 3, 4788, 9709, 28992, 49, 53, 95, 12, 220, 75, 51, 11, 5, 6795, 504, 3, 9, 508, 489, 3, 226, 431, 3, 226, 305, 75, 51, 8985, 8315, 53, 3241, 13152, 13, 5, 8, 646, 4548, 3, 11846, 15, 5, 2808, 120, 6, 8, 8985, 65, 128, 1001, 1028, 9910, 257, 19, 5, 9705, 52, 9798, 6, 983, 6, 1587, 8, 158, 5082, 760, 63, 132, 19, 72, 8690, 120, 15109, 5, 8985, 5, 5568, 7, 190, 8, 4080, 260, 35, 11971, 51, 9, 504, 5571, 6, 3, 7, 26142, 63, 5084, 6316, 5, 28, 1001, 6, 46, 189, 3738, 9798, 17151, 257, 5, 465, 119, 21641, 110, 2865, 42, 5, 20286, 33, 435, 5, 1642, 257, 13, 5568, 7, 10, 314, 7674, 188, 3, 13711, 1436, 138, 6346, 6, 314, 188, 3, 15100, 6346, 6, 314, 279, 5, 3, 107, 173, 291, 150, 1395, 6, 314, 254, 1375, 3241, 305, 75, 51, 45, 3, 13711, 1436, 138, 6346, 6, 314, 308, 4278, 427, 5, 1151, 1375, 7102, 5171, 6, 487, 3, 4267, 13711, 1436, 138, 25049, 150, 1395, 6, 314, 371, 4278, 517, 5, 8985, 6, 314, 566, 8985, 16, 1675, 12, 646, 3, 4788, 2414, 6, 314, 196, 73, 77, 4571, 162, 26, 5084, 5, 6316, 5, 20698, 13, 5568, 7, 10, 13517, 1375, 314, 7674, 188, 6, 314, 188, 314, 196, 5, 9149, 13, 332, 13159, 10, 3594, 16229, 15, 26, 96, 4563, 305, 25049, 150, 221, 1280, 17969, 7726, 10, 37, 19622, 19, 1204, 1434, 11, 3, 6848, 13, 192, 5, 9954, 18, 19699, 150, 221, 12071, 7, 11297, 3, 19997, 11, 3, 12100, 75, 51, 5, 11, 3, 6848, 13, 2886, 5, 94, 19, 5776, 16, 305, 188, 5, 1642, 257, 13, 5568, 7, 10, 305, 188, 5, 20698, 13, 5568, 7, 10, 3320, 5, 9149, 13, 332, 13159, 10, 4357, 16229, 15, 26, 96, 25465, 489, 25049, 150, 221, 1280, 17969, 7726, 10, 24083, 26, 1434, 8, 19622, 3, 6848, 13, 3, 9, 712, 6, 5, 3, 32, 12186, 6, 1001, 25049, 150, 221, 11297, 3, 23758, 3, 4, 3, 23758, 3, 226, 3, 22787, 75, 51, 11, 5776, 16, 12, 235, 77, 431, 188, 5, 1642, 257, 13, 5568, 7, 10, 431, 188, 5, 20698, 13, 5568, 7, 10, 3320, 5, 6514, 5267, 6715, 7, 159, 10, 1300, 9731, 1575, 13, 431, 189, 3, 6520, 6, 1215, 18901, 10, 3, 18, 4523, 15, 3, 51, 6770, 2479, 5, 465, 8985, 894, 5, 1682, 5225, 7656, 150, 1395, 6, 593, 9902, 1215, 18901, 10, 3, 18, 465, 8985, 894, 16, 80, 25049, 150, 221, 17482, 87, 13883, 1877, 5225, 7656, 150, 221, 6, 593, 9694, 1215, 18901, 10, 3, 18, 465, 8985, 894, 16, 80, 25049, 150, 221, 17482, 87, 13883, 2853, 14298, 5084, 6, 4548, 3, 11846, 15, 6, 3, 11846, 25492, 10, 3, 18, 21309, 120, 18231, 26, 3, 7, 4960, 51, 1162, 2358, 31905, 13649, 2446, 201, 28, 5, 6567, 35, 7171, 9249, 753, 6, 217, 2232, 5, 3, 18, 17141, 1528, 3, 13711, 1436, 138, 11, 3, 15100, 6346, 7, 5, 3, 18, 17141, 1528, 3, 4788, 2414, 5, 3, 18, 465, 8985, 894, 16, 1296, 3, 107, 173, 291, 25049, 150, 1395, 5, 3594, 5225, 7656, 150, 1395, 6, 593, 7836, 1215, 18901, 10, 3, 18, 465, 8985, 894, 16, 192, 25049, 150, 1395, 17482, 87, 15070, 4357, 5225, 7656, 150, 221, 6, 593, 7973, 1215, 18901, 10, 3, 18, 465, 8985, 894, 16, 80, 25049, 150, 221, 17482, 87, 13883, 2507, 10, 18502, 32, 10193, 235, 14676, 3, 19139, 504, 24, 8, 8985, 19, 2841, 21, 5, 3, 10363, 22706, 2002, 77, 11, 8953, 6789, 32, 6941, 7, 77, 11, 15949, 120, 1465, 21, 3190, 4834, 5, 1]\n",
            "attention_mask\n",
            "[1, 1, 1, 1, 1, 1, 1, 1, 1, 1, 1, 1, 1, 1, 1, 1, 1, 1, 1, 1, 1, 1, 1, 1, 1, 1, 1, 1, 1, 1, 1, 1, 1, 1, 1, 1, 1, 1, 1, 1, 1, 1, 1, 1, 1, 1, 1, 1, 1, 1, 1, 1, 1, 1, 1, 1, 1, 1, 1, 1, 1, 1, 1, 1, 1, 1, 1, 1, 1, 1, 1, 1, 1, 1, 1, 1, 1, 1, 1, 1, 1, 1, 1, 1, 1, 1, 1, 1, 1, 1, 1, 1, 1, 1, 1, 1, 1, 1, 1, 1, 1, 1, 1, 1, 1, 1, 1, 1, 1, 1, 1, 1, 1, 1, 1, 1, 1, 1, 1, 1, 1, 1, 1, 1, 1, 1, 1, 1, 1, 1, 1, 1, 1, 1, 1, 1, 1, 1, 1, 1, 1, 1, 1, 1, 1, 1, 1, 1, 1, 1, 1, 1, 1, 1, 1, 1, 1, 1, 1, 1, 1, 1, 1, 1, 1, 1, 1, 1, 1, 1, 1, 1, 1, 1, 1, 1, 1, 1, 1, 1, 1, 1, 1, 1, 1, 1, 1, 1, 1, 1, 1, 1, 1, 1, 1, 1, 1, 1, 1, 1, 1, 1, 1, 1, 1, 1, 1, 1, 1, 1, 1, 1, 1, 1, 1, 1, 1, 1, 1, 1, 1, 1, 1, 1, 1, 1, 1, 1, 1, 1, 1, 1, 1, 1, 1, 1, 1, 1, 1, 1, 1, 1, 1, 1, 1, 1, 1, 1, 1, 1, 1, 1, 1, 1, 1, 1, 1, 1, 1, 1, 1, 1, 1, 1, 1, 1, 1, 1, 1, 1, 1, 1, 1, 1, 1, 1, 1, 1, 1, 1, 1, 1, 1, 1, 1, 1, 1, 1, 1, 1, 1, 1, 1, 1, 1, 1, 1, 1, 1, 1, 1, 1, 1, 1, 1, 1, 1, 1, 1, 1, 1, 1, 1, 1, 1, 1, 1, 1, 1, 1, 1, 1, 1, 1, 1, 1, 1, 1, 1, 1, 1, 1, 1, 1, 1, 1, 1, 1, 1, 1, 1, 1, 1, 1, 1, 1, 1, 1, 1, 1, 1, 1, 1, 1, 1, 1, 1, 1, 1, 1, 1, 1, 1, 1, 1, 1, 1, 1, 1, 1, 1, 1, 1, 1, 1, 1, 1, 1, 1, 1, 1, 1, 1, 1, 1, 1, 1, 1, 1, 1, 1, 1, 1, 1, 1, 1, 1, 1, 1, 1, 1, 1, 1, 1, 1, 1, 1, 1, 1, 1, 1, 1, 1, 1, 1, 1, 1, 1, 1, 1, 1, 1, 1, 1, 1, 1, 1, 1, 1, 1, 1, 1, 1, 1, 1, 1, 1, 1, 1, 1, 1, 1, 1, 1, 1, 1, 1, 1, 1, 1, 1, 1, 1, 1, 1, 1, 1, 1, 1, 1, 1, 1, 1, 1, 1, 1, 1, 1, 1, 1, 1, 1, 1, 1, 1, 1, 1, 1, 1, 1, 1, 1, 1, 1, 1, 1, 1, 1, 1, 1, 1, 1, 1, 1, 1, 1, 1, 1, 1, 1, 1, 1, 1, 1, 1, 1, 1, 1, 1, 1, 1, 1, 1, 1, 1, 1, 1, 1, 1, 1, 1, 1, 1, 1, 1, 1, 1, 1, 1, 1, 1, 1, 1, 1, 1, 1, 1, 1, 1, 1, 1, 1, 1, 1, 1, 1, 1, 1, 1, 1, 1, 1, 1, 1, 1, 1, 1, 1, 1, 1, 1, 1, 1, 1, 1, 1, 1, 1, 1, 1, 1, 1, 1, 1, 1, 1, 1, 1, 1, 1, 1, 1, 1, 1, 1, 1, 1, 1, 1, 1, 1, 1, 1, 1, 1, 1, 1, 1, 1, 1, 1, 1, 1, 1, 1, 1, 1, 1, 1, 1, 1, 1, 1, 1, 1, 1, 1, 1, 1, 1, 1, 1, 1, 1, 1, 1, 1, 1, 1, 1, 1, 1, 1, 1, 1, 1, 1, 1, 1, 1, 1, 1, 1, 1, 1, 1, 1, 1, 1, 1, 1, 1, 1, 1, 1, 1, 1, 1, 1, 1, 1, 1, 1, 1, 1, 1, 1, 1, 1, 1, 1, 1, 1, 1, 1, 1, 1, 1, 1, 1, 1, 1, 1, 1, 1, 1, 1, 1, 1, 1, 1, 1, 1, 1, 1, 1, 1, 1, 1, 1, 1, 1, 1, 1, 1, 1, 1, 1, 1, 1, 1, 1, 1, 1, 1, 1, 1, 1, 1, 1, 1, 1, 1, 1, 1, 1, 1, 1, 1, 1, 1, 1, 1, 1, 1, 1, 1, 1, 1, 1, 1, 1, 1, 1, 1, 1, 1, 1, 1, 1, 1, 1, 1, 1, 1, 1, 1, 1, 1, 1, 1, 1, 1, 1, 1, 1, 1, 1, 1, 1, 1, 1, 1, 1, 1, 1, 1, 1, 1, 1, 1, 1, 1, 1, 1, 1, 1, 1, 1, 1, 1, 1, 1, 1, 1, 1, 1, 1, 1, 1, 1, 1, 1, 1, 1, 1, 1, 1, 1, 1, 1, 1, 1, 1, 1, 1, 1, 1, 1, 1, 1, 1, 1, 1, 1, 1, 1, 1, 1, 1, 1, 1, 1, 1, 1, 1, 1, 1, 1, 1, 1, 1, 1, 1, 1, 1, 1, 1, 1, 1, 1, 1, 1, 1, 1, 1, 1, 1, 1, 1, 1, 1, 1, 1, 1, 1, 1, 1, 1, 1, 1, 1, 1, 1, 1, 1, 1, 1, 1, 1, 1, 1, 1, 1, 1, 1, 1, 1, 1, 1, 1, 1, 1, 1, 1, 1, 1, 1, 1, 1, 1, 1, 1, 1, 1, 1, 1, 1, 1, 1, 1, 1, 1, 1, 1, 1, 1, 1, 1, 1, 1, 1, 1, 1, 1, 1, 1, 1, 1, 1, 1, 1, 1, 1, 1, 1, 1, 1, 1, 1, 1, 1, 1, 1, 1, 1, 1, 1, 1, 1, 1, 1, 1, 1, 1, 1, 1, 1, 1, 1, 1, 1, 1, 1, 1, 1, 1, 1, 1, 1, 1, 1, 1, 1, 1, 1, 1, 1, 1, 1, 1, 1, 1, 1, 1, 1, 1, 1, 1, 1, 1, 1, 1, 1, 1, 1, 1, 1, 1, 1, 1, 1, 1, 1, 1, 1, 1, 1, 1, 1, 1, 1, 1, 1, 1, 1, 1, 1, 1, 1, 1, 1, 1, 1, 1, 1, 1, 1, 1, 1, 1, 1, 1, 1, 1, 1, 1, 1, 1, 1, 1, 1, 1, 1, 1, 1, 1, 1, 1, 1, 1, 1, 1, 1, 1, 1, 1, 1, 1, 1, 1, 1, 1, 1, 1, 1, 1, 1, 1, 1, 1, 1, 1, 1, 1, 1, 1, 1, 1, 1, 1, 1, 1, 1, 1, 1, 1, 1, 1, 1, 1, 1, 1, 1, 1, 1, 1, 1, 1, 1, 1, 1, 1, 1, 1, 1, 1, 1, 1, 1, 1, 1, 1, 1, 1, 1, 1, 1, 1, 1, 1, 1, 1, 1, 1, 1, 1, 1, 1, 1, 1, 1, 1, 1, 1, 1, 1, 1, 1, 1, 1, 1, 1]\n"
          ]
        }
      ]
    },
    {
      "cell_type": "code",
      "source": [
        "def preprocess_function(examples):\n",
        "  inputs = [\"summarize: \" + doc for doc in examples[\"TEXT\"]]\n",
        "  model_inputs = tokenizer(inputs, max_length=512, truncation=True)\n",
        "  labels = tokenizer(text_target=examples[\"SUMMARY\"], max_length=512, truncation=True)\n",
        "  model_inputs[\"labels\"] = labels[\"input_ids\"]\n",
        "\n",
        "  return model_inputs"
      ],
      "metadata": {
        "id": "dPrXpD6_k-Lu"
      },
      "execution_count": 16,
      "outputs": []
    },
    {
      "cell_type": "code",
      "source": [
        "tokenized_dataset = dataset.map(preprocess_function, batched=True)"
      ],
      "metadata": {
        "colab": {
          "base_uri": "https://localhost:8080/",
          "height": 81,
          "referenced_widgets": [
            "eb0ef86837d543b0bb6a46735e86bc25",
            "bedeffa0a81942ad8a48c94a5cc7963c",
            "da38479a2bcf4da4bdbed59d4a54a99a",
            "4f5525e1912340dc8f05ed0b14dab9f9",
            "cbf52200d3bf49989c260fb5b6d0ac64",
            "6359cbfb620a47639f3d9198d63ba335",
            "5abd2244e58f4d5999caf6e99c77ca45",
            "1d9df560ba94423aa3cb55573fd862ac",
            "2c534a4006d9472bb8bcdc13fcffae99",
            "d1f41d5cb2bb43339ebfb044a6fa79f1",
            "f055ead98d4544a7a550a287a5ab3e87",
            "e3beebebdde149b68cafc0504df27565",
            "2fea84472d1742abbc629e83b998d31c",
            "0d2e51f6ac554c69b654e24f02b5d83e",
            "57b4b377c1e94ee5a4db4d085c5cc750",
            "ddd56193b294496791478c6c5d53de38",
            "56a71ddc1ff046c9830d68ff9d262b87",
            "d9da7ffcb9c34659af960d66ce5110b1",
            "9ef1c8595708418a8c40ba775a030ec6",
            "468e9e0748e544ae9eba0b368597a29f",
            "d9f4bb2ce1b14594bb267fcb78ba5c8f",
            "a6f380ad0aeb466db1850a3cca360711"
          ]
        },
        "id": "D9fR3U-rlK_z",
        "outputId": "30b9c2cd-179f-4b72-d2ca-f2d4ebce500e"
      },
      "execution_count": 17,
      "outputs": [
        {
          "output_type": "display_data",
          "data": {
            "text/plain": [
              "Map:   0%|          | 0/859 [00:00<?, ? examples/s]"
            ],
            "application/vnd.jupyter.widget-view+json": {
              "version_major": 2,
              "version_minor": 0,
              "model_id": "eb0ef86837d543b0bb6a46735e86bc25"
            }
          },
          "metadata": {}
        },
        {
          "output_type": "display_data",
          "data": {
            "text/plain": [
              "Map:   0%|          | 0/215 [00:00<?, ? examples/s]"
            ],
            "application/vnd.jupyter.widget-view+json": {
              "version_major": 2,
              "version_minor": 0,
              "model_id": "e3beebebdde149b68cafc0504df27565"
            }
          },
          "metadata": {}
        }
      ]
    },
    {
      "cell_type": "code",
      "source": [
        "tokenized_dataset['test'][0]['TEXT']"
      ],
      "metadata": {
        "colab": {
          "base_uri": "https://localhost:8080/",
          "height": 123
        },
        "id": "5eGIa8p0lPP9",
        "outputId": "c953836c-9a92-4760-ce73-5136fe24d389"
      },
      "execution_count": 18,
      "outputs": [
        {
          "output_type": "execute_result",
          "data": {
            "text/plain": [
              "'Clinical History/Diagnosis: Not entered. Source of Specimen(s): A: CYTOLOGY. B: L11 LYMPH NODES. C: CYTOLOGY. D: LEFT LOWER LOBE. E: BRONCHIAL L11 NODES. F: NODE @ RESECTION MARGIN. G: LEVEL 7 LN. H: PULMONARY ARTERY LEVEL 5 LN. Gross Description: GROSS DESCRIPTION: Received in eight parts. SOURCE OF TISSUE: 1. CYTOLOGY. SOURCE OF TISSUE: 2. Labeled #2, \"L11 lymph nodes\". GROSS DESCRIPTION: Received fresh are three gray-black, anthracotic-stained tissue. fragments, 0.4 to 0.8 cm. in greatest dimension. They are submitted in toto in one block. DESIGNATION OF SECTIONS: Block 2. SUMMARY OF SECTIONS: undesignated-3. SOURCE OF TISSUE: 3. CYTOLOGY. SOURCE OF TISSUE: 4. Labeled #4, \"left lower lobe\". FROZEN SECTION DIAGNOSIS: 4FSA-4FSB - RESERVE CELL HYPERPLASIA. NO. TUMOR SEEN. GROSS DESCRIPTION: Received fresh for frozen section evaluation is a 235 gram, 12.5 X. 10.5 X 4.5 cm. left lower lobectomy of lung. It is covered by a pink to red-purple, focally. anthracotic-stained pleura. There is up to 0.6 cm. of attached bronchus. The bronchial. resection margin is entirely submitted for frozen section evaluation and the frozen section. residues are submitted in two blocks. In the anterior segment, there is a 1.5 cm. in greatest. dimension area where the pleura is umbilicated. On sectioning through this area, there is an. underlying 5.0 x 4.5 X 3.2 cm. firm mass. The cut surfaces are light tan, firm, having irregular. borders. The mass extends to the hilar structures surrounding the bronchus and vessels. The. remaining cut surfaces of the lung range from being tan-pink, soft and crepitant to areas. which are red-purple and soft. There are few palpable hilar lymph nodes, 0.4 cm. in greatest. dimension. Each is gray-black and anthracotic- stained. A representative section of each. lymph node is submitted. Representative sections are submitted in eight blocks. DESIGNATION OF SECTIONS: 4FSA-4FSB - frozen section bronchial resection margin,. 4A - vascular resection margin, 4B-4C - tumor with inked pleural surface, 4D-4F - random. tumor sections, 4G - random sections of uninvolved lung, 4H - hilar lymph nodes,. SUMMARY OF SECTIONS: 4FSA-1, 4FSB-1, 4A-3, 4B-1, 4C-1, 4D-1, 4E-1,4F-1, 4G-2,. 4H-4. SOURCE OF TISSUE: 5. Labeled #5, \"bronchial L11 nodes\". FROZEN SECTION DIAGNOSIS: 5FS - NO TUMOR SEEN. GROSS DESCRIPTION: Received fresh for frozen section evaluation are three gray-black,. anthracotic-stained tissue fragments, 0.6 to 1.4 cm. in greatest dimension. They are. submitted in toto for frozen section revaluation and the frozen itself is submitted in one. block. DESIGNATION OF SECTIONS: 5FS. SUMMARY OF SECTIONS: 5FS-3. SOURCE OF TISSUE: 6. Labeled #6, \"node at resection margin\". FROZEN SECTION DIAGNOSIS: 6FS - NO TUMOR SEEN. GROSS DESCRIPTION: Received fresh for frozen section evaluation are two gray-black,. anthracotic-stained tissue fragments, 0.4 and 1.0 cm. in greatest dimension. They are. submitted in toto for frozen section evaluation and the frozen itself is submitted in one block. DESIGNATION OF SECTIONS: 6FS. SUMMARY OF SECTIONS: 6FS-2. SOURCE OF TISSUE: 7. Labeled #7, \"level 7 lymph node\". FROZEN SECTION DIAGNOSIS: 7FS - NO TUMOR SEEN. GROSS DESCRIPTION: Received fresh for frozen section evaluation are two tan to gray-. black, anthracotic-stained tissue fragments, 1.0 and 1.2 cm. in greatest dimension. They are. submitted in toto for frozen section evaluation and the frozen itself is submitted in one block. DESIGNATION OF SECTIONS: 7FS. SUMMARY OF SECTIONS: 7FS-2. SOURCE OF TISSUE: 8. Labeled #8, \"PA level 5 lymph node\". FROZEN SECTION DIAGNOSIS; 8FS - NO TUMOR SEEN. GROSS DESCRIPTION: Received fresh for frozen section evaluation is a 0.8 cm. gray-. black, anthracotic-stained tissue fragment which is submitted in toto for frozen section. evaluation. The frozen itself is submitted in one block. DESIGNATION OF SECTIONS: 8FS. SUMMARY OF SECTIONS: 8FS-1. Final Diagnosis: DIAGNOSIS: 1. CYTOLOGY. 2. L11 LYMPH NODES: - THREE LYMPH NODES ALL NEGATIVE FOR TUMOR (0/3). 3. CYTOLOGY. 4. LEFT LOWER LOBE: SQUAMOUS CELL CARCINOMA, NONKERATINIZING, POORLY. DIFFERENTIATED, 5.0 CM. TUMOR FOCALLY EXTENDS INTO BUT NOT THROUGH THE PLEURA. - BRONCHIAL AND VASCULAR RESECTION MARGINS ARE NEGATIVE FOR. TUMOR. - THREE PERIBRONCHIAL LYMPH NODES ARE NEGATIVE FOR TUMOR (0/3). 5. BRONCHIAL L11 LYMPH NODES: - FOUR LYMPH NODES ALL NEGATIVE FOR TUMOR (0/4). 6. LYMPH NODE AT RESECTION MARGIN: LYMPH NODE NEGATIVE FOR TUMOR (0/1). - MARGIN NEGATIVE FOR TUMOR. 7. LEVEL 7 LYMPH NODE: - TWO LYMPH NODES NEGATIVE FOR TUMOR (0/2). 8. PULMONARY ARTERY LEVEL 5 LYMPH NO: - ONE LYMPH NODE NEGATIVE FOR TUMOR (0/1). SYNOPTIC REPORT FOR LUNG CANCER. A NEOPLASM IS PRESENT. LOCATION OF TUMOR: LEFT LOWER LOBE. THE HISTOLOGIC CLASSIFICATION OF THE TUMOR IS SQUAMOUS CELL. (EPIDERMOID). CARCINOMA, NON-KERATINIZING TYPE. THE GRADE OF THE TUMOR IS: ; POORLY DIFFERENTIATED (GRADE III). LYMPHATIC INVASION BY TUMOR IS ABSENT. VENOUS INVASION BY TUMOR IS ABSENT. ARTERIAL INVASION BY TUMOR IS ABSENT. INVASION INTO BUT NOT THROUGH THE PLEURA BY TUMOR IS PRESENT. INVASION THROUGH THE PLEURA BY TUMOR IS ABSENT. TUMOR NECROSIS IS MODERATE. THE SURGICAL MARGINS ARE UNINVOLVED BY TUMOR. THE NON-NEOPLASTIC LUNG TISSUE SHOWS EMPHYSEMA. LYMPH NODES DEMONSTRATE NO EXTRACAPSULAR EXTENSION OF TUMOR. THE TOTAL NUMBER OF NODES EXAMINED IS: 11. THE TOTAL NUMBER OF POSITIVE NODES IS: 0. STAGING. T2.'"
            ],
            "application/vnd.google.colaboratory.intrinsic+json": {
              "type": "string"
            }
          },
          "metadata": {},
          "execution_count": 18
        }
      ]
    },
    {
      "cell_type": "code",
      "source": [
        "tokenized_dataset['test'][0]['SUMMARY']"
      ],
      "metadata": {
        "colab": {
          "base_uri": "https://localhost:8080/",
          "height": 88
        },
        "id": "eMRn_op7lbEF",
        "outputId": "1dac1f90-0ad5-4e7b-92bf-df7d7045fef3"
      },
      "execution_count": 19,
      "outputs": [
        {
          "output_type": "execute_result",
          "data": {
            "text/plain": [
              "\"The patient's condition was diagnosed as squamous cell carcinoma located in the left lower lobe of the lung. The tumor measured 5 cm and extended partially into the pleura but not through it. Examination of the bronchial and vascular resection margins revealed no tumor involvement. Three lymph nodes around the bronchus and four lymph nodes from the L11 area were all negative for tumor. A lymph node at the resection margin, as well as two level 7 lymph nodes and one pulmonary artery level 5 lymph node, were also found to be negative for tumor.\""
            ],
            "application/vnd.google.colaboratory.intrinsic+json": {
              "type": "string"
            }
          },
          "metadata": {},
          "execution_count": 19
        }
      ]
    },
    {
      "cell_type": "code",
      "source": [
        "data_collator = DataCollatorForSeq2Seq(tokenizer=tokenizer, model=\"t5-small\")"
      ],
      "metadata": {
        "id": "5m_pHL2pllG0"
      },
      "execution_count": 20,
      "outputs": []
    },
    {
      "cell_type": "code",
      "source": [
        "model = AutoModelForSeq2SeqLM.from_pretrained(\"t5-small\")"
      ],
      "metadata": {
        "id": "MoGF3aWQm2i6",
        "colab": {
          "base_uri": "https://localhost:8080/",
          "height": 113,
          "referenced_widgets": [
            "c4c174e9731743a184d3fbb2cd1469d1",
            "518e3e184b30426db7798a2ceed3c6a9",
            "2f7d53c066a747049433122bc17bd46a",
            "45c3c3a7436448548e133f6f18f2d4bd",
            "5af2075985df469fbd4481891deb738a",
            "6b38f797154c4a2d8f09eff50d99eae2",
            "f652d67001914e07a2397ca5ff0d33f5",
            "6e93d08fc5ac44a8a11124709b2e624b",
            "2ea13cf82ef345a0849731a8bbb33936",
            "0dd9231c7c994cf68898b91d55e61704",
            "33d422ed08634b8583ef2dcc2641a9ea",
            "6d9fdbea7a6941c99231476e8d994c2f",
            "5174d4abdc774964b6779e0b47b12f26",
            "cff26df543404dbf949b85aae13df210",
            "75ee74bf83c64429a46a794fc529f238",
            "143e1a7a9bd64e34aca5a6a54bf000cb",
            "dceee4509bef49679a11e4dd5bb828f9",
            "c82bb795c4ac4134b0abd091dc01b977",
            "6777bc8dfa474254a6ac5cb692c93f91",
            "ceb458878de641b7b3b0438ba71e97eb",
            "7a5cbe8fe2cb4177a0e67d3245c5390f",
            "47151b21adb647369787bbad772ecefd",
            "9829203907954f3595dccdffc5682265",
            "8d3527ba1fa7458591d13c9fe40b32f2",
            "bda89b80f4c04fcba6d41ff7bdb28288",
            "457cc5e4762a44ccb48d7bdcae4500f3",
            "288d0fbd73f942b4834be5a54bcce11f",
            "85dab3526b0a470c9dc530cf766c149c",
            "24f4d6bea8444aeca910810360ba19a9",
            "7a53dfc0a6f14656b2697eaf520ce4c6",
            "b0cf5b8afb28439eac542bbac6c0443b",
            "663f183b3dd1495d8f3f708847e4c3c6",
            "8d625c5a967a43cb82e2e5adec425314"
          ]
        },
        "outputId": "26dd32f1-f5ba-40d9-a98e-a5e088d139e7"
      },
      "execution_count": 22,
      "outputs": [
        {
          "output_type": "display_data",
          "data": {
            "text/plain": [
              "config.json:   0%|          | 0.00/1.21k [00:00<?, ?B/s]"
            ],
            "application/vnd.jupyter.widget-view+json": {
              "version_major": 2,
              "version_minor": 0,
              "model_id": "c4c174e9731743a184d3fbb2cd1469d1"
            }
          },
          "metadata": {}
        },
        {
          "output_type": "display_data",
          "data": {
            "text/plain": [
              "model.safetensors:   0%|          | 0.00/242M [00:00<?, ?B/s]"
            ],
            "application/vnd.jupyter.widget-view+json": {
              "version_major": 2,
              "version_minor": 0,
              "model_id": "6d9fdbea7a6941c99231476e8d994c2f"
            }
          },
          "metadata": {}
        },
        {
          "output_type": "display_data",
          "data": {
            "text/plain": [
              "generation_config.json:   0%|          | 0.00/147 [00:00<?, ?B/s]"
            ],
            "application/vnd.jupyter.widget-view+json": {
              "version_major": 2,
              "version_minor": 0,
              "model_id": "9829203907954f3595dccdffc5682265"
            }
          },
          "metadata": {}
        }
      ]
    },
    {
      "cell_type": "code",
      "source": [
        "training_args = Seq2SeqTrainingArguments(\n",
        "    output_dir=\"clinical-reports-summarizer\",\n",
        "    evaluation_strategy=\"epoch\",\n",
        "    learning_rate=2e-5,\n",
        "    per_device_train_batch_size=16,\n",
        "    per_device_eval_batch_size=16,\n",
        "    weight_decay=0.01,\n",
        "    save_total_limit=3,\n",
        "    num_train_epochs=4,\n",
        "    predict_with_generate=True,\n",
        "    fp16=True,\n",
        ")"
      ],
      "metadata": {
        "id": "91lOK6h8lt0A"
      },
      "execution_count": 23,
      "outputs": []
    },
    {
      "cell_type": "code",
      "source": [
        "trainer = Seq2SeqTrainer(\n",
        "    model=model,\n",
        "    args=training_args,\n",
        "    train_dataset=tokenized_dataset[\"train\"],\n",
        "    eval_dataset=tokenized_dataset[\"test\"],\n",
        "    tokenizer=tokenizer,\n",
        "    data_collator=data_collator\n",
        ")"
      ],
      "metadata": {
        "id": "Tl0gfc35m5YM"
      },
      "execution_count": 24,
      "outputs": []
    },
    {
      "cell_type": "code",
      "source": [
        "trainer.train()"
      ],
      "metadata": {
        "colab": {
          "base_uri": "https://localhost:8080/",
          "height": 235
        },
        "id": "m6DjHlmWm8ag",
        "outputId": "9020c982-c0a8-4361-b1c0-65179d55a8fc"
      },
      "execution_count": 25,
      "outputs": [
        {
          "output_type": "display_data",
          "data": {
            "text/plain": [
              "<IPython.core.display.HTML object>"
            ],
            "text/html": [
              "\n",
              "    <div>\n",
              "      \n",
              "      <progress value='216' max='216' style='width:300px; height:20px; vertical-align: middle;'></progress>\n",
              "      [216/216 01:41, Epoch 4/4]\n",
              "    </div>\n",
              "    <table border=\"1\" class=\"dataframe\">\n",
              "  <thead>\n",
              " <tr style=\"text-align: left;\">\n",
              "      <th>Epoch</th>\n",
              "      <th>Training Loss</th>\n",
              "      <th>Validation Loss</th>\n",
              "    </tr>\n",
              "  </thead>\n",
              "  <tbody>\n",
              "    <tr>\n",
              "      <td>1</td>\n",
              "      <td>No log</td>\n",
              "      <td>2.757287</td>\n",
              "    </tr>\n",
              "    <tr>\n",
              "      <td>2</td>\n",
              "      <td>No log</td>\n",
              "      <td>2.527283</td>\n",
              "    </tr>\n",
              "    <tr>\n",
              "      <td>3</td>\n",
              "      <td>No log</td>\n",
              "      <td>2.459255</td>\n",
              "    </tr>\n",
              "    <tr>\n",
              "      <td>4</td>\n",
              "      <td>No log</td>\n",
              "      <td>2.439344</td>\n",
              "    </tr>\n",
              "  </tbody>\n",
              "</table><p>"
            ]
          },
          "metadata": {}
        },
        {
          "output_type": "execute_result",
          "data": {
            "text/plain": [
              "TrainOutput(global_step=216, training_loss=3.107117264359086, metrics={'train_runtime': 104.1118, 'train_samples_per_second': 33.003, 'train_steps_per_second': 2.075, 'total_flos': 465034429857792.0, 'train_loss': 3.107117264359086, 'epoch': 4.0})"
            ]
          },
          "metadata": {},
          "execution_count": 25
        }
      ]
    },
    {
      "cell_type": "code",
      "source": [
        "trainer.save_model(\"clinical-reports-summarizer\")"
      ],
      "metadata": {
        "id": "fG3kcbV-nCb2"
      },
      "execution_count": 26,
      "outputs": []
    },
    {
      "cell_type": "code",
      "source": [
        "text = dataset['test'][100]['TEXT']\n",
        "text = \"summarize: \" + text\n",
        "text"
      ],
      "metadata": {
        "id": "mrtvt5tunqlh",
        "colab": {
          "base_uri": "https://localhost:8080/",
          "height": 123
        },
        "outputId": "352de480-514c-4395-8a4f-cc65a0331ab7"
      },
      "execution_count": 27,
      "outputs": [
        {
          "output_type": "execute_result",
          "data": {
            "text/plain": [
              "'summarize: Surgery date: REVISED REPORT (Addendum/Procedure included). DIAGNOSIS: Site Pancreas head C25.0. A. Liver, right lobe, biopsy: Scant liver parenchyma with capsular. fibrosis. Rare cluster of atypical cells of uncertain significance. B. Lymph node, common hepatic, biopsy: Involved by metastatic. adenocarcinoma. C. Common hepatic duct, margin, excision: Negative for tumor. D. Pancreatic body, margin, excision: Intraductal papillary. mucinous neoplasm with high-grade dysplasia, present in the. pancreatic duct. No invasive carcinoma. E. Portal vein, adventitia, biopsy: Negative for tumor. F. Head pancreas, gallbladder, duodenum, common bile duct, portion. jejunum, Whipple resection: Invasive moderately differentiated. ductal adenocarcinoma on a background of extensive intraductal. papillary mucinous neoplasm with high-grade dysplasia, forming a. solid 4.6 x 2.3 x 2.0 cm mass located in the pancreatic head. The. tumor extends beyond pancreas to involve the peripancreatic soft. tissue. Perineural invasion is present. The uncinate margin tissue. shows metastic adenocarcinoma to a lymph node with soft tissue. extension. The tumor is 0.1 cm from the portal vein groove. The. patient has had no prior treatment. Multiple (7 of 15) regional. lymph nodes are involved by metastatic metastatic adenocarcinoma. The gallbladder shows mild chronic cholecystitis. G. Pancreatic body, new margin, excision: Negative for invasive. adenocarcinoma. Intraductal papillary mucinous neoplasm with. low-grade dysplasia. AJCC stage (with available surgical material): pT3N1 (7th edition). This final pathology report is based on the gross/macroscopic. examination and the frozen section histologic evaluation of the. specimen(s). A revised report will be issued to document the final. interpretation after review of the Hematoxylin and Eosin (H&E). permanent sections. Interpreted by: ADDENDUM: Frozen section interpretation has been confirmed by Hematoxylin and. Eosin (H&E) permanent section review. GROSS DESCRIPTION: A. Received fresh labeled \"right lobe liver biopsy\" is a 1.2 X 0.3 X. 0.3 cm aggregate of tan-pink tissue. All submitted. Grossed by. B. Received fresh labeled \"common hepatic lymph node\" is a 1.7 x 1.2. x 0.3 cm lymph node. All submitted. Grossed by. C. Received fresh labeled \"common hepatic duct margin\" is a 1.5 x. 0.5 x 0.3 cm fragment of pink-tan soft tissue with orientation. Margin submitted. Grossed by. D. Received fresh labeled \"pancreatic body margin\" is a 3.0 x 2.0 x. 0.5 cm portion of pink-tan soft tissue with orientation. Margin. submitted. Grossed by. E. Received fresh labeled \"adventitia tissue portal vein\" is a 0.3 x. 0.1 x 0.1 cm fragment of pink tissue. All submitted. Grossed by. F. Received fresh labeled \"head pancreas, gallbladder, duodenum,. common bile duct, portion jejunum\" is a Whipple specimen consisting. of 34.0 cm in length portion of duodenum, 6.0 x 5.0 X 3.0 cm portion. of pancreas, 9.3 x 4.2 x 2.6 cm gallbladder. The pancreatic. uncinate margin is inked yellow and shaved, the portal vein groove. is inked black and submitted perpendicularly. There is a 4.6 X 2.3 x. 2.0 cm diffusely infiltrative mass within the pancreas, 0.1 cm from. the portal vein groove margin. The mass is confined to the. pancreas. The gallbladder contains no choleliths. Peripancreatic. lymph nodes and periduodenal lymph nodes are identified. Representative sections are submitted. Research tissue collected,. G. Received fresh labeled \"new pancreatic body margin\" is a 3.1 x. 2.0 x 0.7 cm portion of pancreatic tissue with orientation. All. submitted. Grossed by. BLOCK SUMMARY: Part A: Right lobe liver biopsy. 1 Rt lobe liver bx. Part B: Common hepatic lymph node. 1 Comm hepatic LN 1(B1). Part C: Common hepatic duct margin. 1 Comm hepatic duct margin. Part D: Pancreatic body margin. 1 Pancreatic body margin 1. 2 Pancreatic body margin 2. Part E: Adventitia tissue portal vein. 1 Advenitia tissue portal vein. Part F: Head pancrea, gallbladder, duodenum, common bile duct,. portion jejunum. 1 Uncinate margin 1. 2 Uncinate margin 1. 3 Uncinate margin 2. 4 Uncinate margin 2. 5 Ampulla. 6 Mass at uncinate. 7 Mass at pancreatic head. 8 Area between masses. 9 Gallbladder. 10 Peripancreatic LNs 6 (F1). 11 Peripancreatic LNs 4 (F2). 12 Peripancreatic LNs 3 (F3). 13 Peripancreatic LNs 2 (F4). 14 Peripancreatic LNs 2 (F5). 15 Peripancreatic LN 1 (F6). 16 Periduodenal LN 1 (F7). Part G: New pancreatic body margin. 1 New pancreatic margin 1. 2 New pancreatic margin 2.'"
            ],
            "application/vnd.google.colaboratory.intrinsic+json": {
              "type": "string"
            }
          },
          "metadata": {},
          "execution_count": 27
        }
      ]
    },
    {
      "cell_type": "code",
      "source": [
        "from transformers import pipeline\n",
        "\n",
        "summarizer = pipeline(\"summarization\", model=\"clinical-reports-summarizer\")\n",
        "pred = summarizer(text)\n",
        "pred"
      ],
      "metadata": {
        "id": "wYoi9uFgnw9v",
        "colab": {
          "base_uri": "https://localhost:8080/"
        },
        "outputId": "a378a96d-23ed-486e-cbd7-f23d0b0e7949"
      },
      "execution_count": 28,
      "outputs": [
        {
          "output_type": "stream",
          "name": "stderr",
          "text": [
            "Token indices sequence length is longer than the specified maximum sequence length for this model (1473 > 512). Running this sequence through the model will result in indexing errors\n"
          ]
        },
        {
          "output_type": "execute_result",
          "data": {
            "text/plain": [
              "[{'summary_text': 'a biopsy of the pancreatic duct was performed on the right lobe liver bx . the biopsy revealed a rare cluster of atypical cells with capsular fibrosis . The biopsy was performed in the adenocarcinoma. The tumor is 0.1 cm from the portal vein groove. The patient has had no prior treatment.'}]"
            ]
          },
          "metadata": {},
          "execution_count": 28
        }
      ]
    },
    {
      "cell_type": "markdown",
      "source": [
        "# **ROGUE SCORES**"
      ],
      "metadata": {
        "id": "r7wP1p8Sykzs"
      }
    },
    {
      "cell_type": "code",
      "source": [
        "import evaluate\n",
        "rouge = evaluate.load(\"rouge\")\n"
      ],
      "metadata": {
        "colab": {
          "base_uri": "https://localhost:8080/",
          "height": 49,
          "referenced_widgets": [
            "b0030a91642946a0b9153c1dfc36806f",
            "01376c24cc6242feb2cbb0798f2d4425",
            "da5263d4a8d741acae79d10f36e4a629",
            "a7a2c6666b584a129a5b026050b67ca8",
            "fdb43f8dca71423bb24371233f1beb1c",
            "5596fe94bbca4ca7b6b00cdd04b350d8",
            "1c4cdb8f372e4dd0b04605871bccd5b8",
            "76e6b0a8a10e49b7af19ccfd1c1067c1",
            "82a04b0ab7ba4e4fb0e1fc1d484f357d",
            "ca13f1fda6084723a033618c68fd31e8",
            "b6df6eee75074aae857d9835e26171ac"
          ]
        },
        "id": "k591VWOrxxTt",
        "outputId": "c0516ef7-43d7-44bb-b539-bc968f7098c5"
      },
      "execution_count": 30,
      "outputs": [
        {
          "output_type": "display_data",
          "data": {
            "text/plain": [
              "Downloading builder script:   0%|          | 0.00/6.27k [00:00<?, ?B/s]"
            ],
            "application/vnd.jupyter.widget-view+json": {
              "version_major": 2,
              "version_minor": 0,
              "model_id": "b0030a91642946a0b9153c1dfc36806f"
            }
          },
          "metadata": {}
        }
      ]
    },
    {
      "cell_type": "code",
      "source": [
        "preds = [pred[0]['summary_text']]\n",
        "\n",
        "labels = [dataset['test'][100]['SUMMARY']]\n",
        "\n",
        "rouge.compute(predictions=preds, references=labels, use_stemmer=True)"
      ],
      "metadata": {
        "colab": {
          "base_uri": "https://localhost:8080/"
        },
        "id": "HgnzOzg-xzo7",
        "outputId": "2eb8a1c8-ea77-43fe-e414-d61c1d7c9e2a"
      },
      "execution_count": 33,
      "outputs": [
        {
          "output_type": "execute_result",
          "data": {
            "text/plain": [
              "{'rouge1': 0.3448275862068965,\n",
              " 'rouge2': 0.09790209790209792,\n",
              " 'rougeL': 0.23448275862068965,\n",
              " 'rougeLsum': 0.23448275862068965}"
            ]
          },
          "metadata": {},
          "execution_count": 33
        }
      ]
    },
    {
      "cell_type": "markdown",
      "source": [
        "### **ROGUE SCORE OBTAINED IS:**\n",
        "  **ROGUE1**: 0.3448275862068965 <br>\n",
        "  **ROGUE2**: 0.09790209790209792<br>\n",
        "  **ROGUEL**: 0.23448275862068965<br>\n",
        "  **ROUGELsum**: 0.23448275862068965"
      ],
      "metadata": {
        "id": "Eko075-nyrXa"
      }
    }
  ]
}